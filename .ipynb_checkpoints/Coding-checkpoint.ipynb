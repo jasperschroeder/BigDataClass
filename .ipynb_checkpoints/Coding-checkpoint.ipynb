{
 "cells": [
  {
   "cell_type": "markdown",
   "metadata": {},
   "source": [
    "# Coding"
   ]
  },
  {
   "cell_type": "code",
   "execution_count": 68,
   "metadata": {},
   "outputs": [],
   "source": [
    "import pandas as pd\n",
    "import numpy as np\n",
    "import matplotlib.pyplot as plt\n",
    "import time\n",
    "%matplotlib inline\n",
    "\n",
    "import math"
   ]
  },
  {
   "cell_type": "markdown",
   "metadata": {},
   "source": [
    "# Data Pre-Processing"
   ]
  },
  {
   "cell_type": "code",
   "execution_count": 54,
   "metadata": {},
   "outputs": [],
   "source": [
    "path = 'C:/Users/Jasper/Desktop/Studying/Collecting and Analyzing Big Data/Project/Data/'"
   ]
  },
  {
   "cell_type": "code",
   "execution_count": 55,
   "metadata": {},
   "outputs": [],
   "source": [
    "data1 = pd.read_csv(path+'2017-11.csv', dtype=str)\n",
    "data2 = pd.read_csv(path+'2017-12.csv', dtype=str)\n",
    "data3 = pd.read_csv(path+'2018-01.csv', dtype=str)\n",
    "data4 = pd.read_csv(path+'2018-02.csv', dtype=str)\n",
    "data5 = pd.read_csv(path+'2018-03.csv', dtype=str)"
   ]
  },
  {
   "cell_type": "code",
   "execution_count": 56,
   "metadata": {},
   "outputs": [],
   "source": [
    "# Not all datasets have the same columns, this way we make sure they all do.\n",
    "cols = data2.columns\n",
    "data1 = data1[cols]\n",
    "data2 = data2[cols]\n",
    "data3 = data3[cols]\n",
    "data4 = data4[cols]\n",
    "data5 = data5[cols]\n",
    "\n",
    "# Concatenating to one\n",
    "df = pd.concat((data1, data2, data3, data4, data5), axis=0)"
   ]
  },
  {
   "cell_type": "code",
   "execution_count": 57,
   "metadata": {},
   "outputs": [
    {
     "data": {
      "text/plain": [
       "Index(['Unnamed: 0', 'author', 'author_cakeday', 'author_flair_css_class',\n",
       "       'author_flair_text', 'body', 'created_utc', 'distinguished', 'edited',\n",
       "       'id', 'link_id', 'parent_id', 'permalink', 'retrieved_on', 'score',\n",
       "       'stickied', 'subreddit', 'subreddit_id'],\n",
       "      dtype='object')"
      ]
     },
     "execution_count": 57,
     "metadata": {},
     "output_type": "execute_result"
    }
   ],
   "source": [
    "# In the following, we will deal with each column / preprocess on its own\n",
    "df.columns"
   ]
  },
  {
   "cell_type": "markdown",
   "metadata": {},
   "source": [
    "# Setting the Index"
   ]
  },
  {
   "cell_type": "code",
   "execution_count": 58,
   "metadata": {},
   "outputs": [],
   "source": [
    "df['Index'] = range(df.shape[0])\n",
    "df = df.set_index('Index')\n",
    "df = df.drop('Unnamed: 0', axis=1)"
   ]
  },
  {
   "cell_type": "markdown",
   "metadata": {},
   "source": [
    "# Author"
   ]
  },
  {
   "cell_type": "code",
   "execution_count": 59,
   "metadata": {},
   "outputs": [],
   "source": [
    "for elem in df['author']:\n",
    "    if str(elem).lower() == 'nan':\n",
    "        print(elem)\n",
    "        \n",
    "# So, can be left unchanged"
   ]
  },
  {
   "cell_type": "markdown",
   "metadata": {},
   "source": [
    "# Author Cake Day"
   ]
  },
  {
   "cell_type": "code",
   "execution_count": 60,
   "metadata": {},
   "outputs": [],
   "source": [
    "def authorcakeday_preprocess(elem):\n",
    "    elem = str(elem)\n",
    "    elem = elem.replace(\"'\", \"\")\n",
    "    if elem == \"True\":\n",
    "        elem = True\n",
    "    else:\n",
    "        elem = False\n",
    "    return elem \n",
    "\n",
    "df['author_cakeday'] = df['author_cakeday'].apply(authorcakeday_preprocess)\n",
    "df['author_flair_text'] = df['author_flair_text'].astype(str)\n",
    "\n",
    "for elem in df['author_flair_text']:\n",
    "    elem = elem.capitalize()"
   ]
  },
  {
   "cell_type": "markdown",
   "metadata": {},
   "source": [
    "# Author Flair CSS Class"
   ]
  },
  {
   "cell_type": "code",
   "execution_count": 61,
   "metadata": {},
   "outputs": [],
   "source": [
    "# I think we can drop this column althogether\n",
    "#df['author_flair_css_class'].unique()"
   ]
  },
  {
   "cell_type": "markdown",
   "metadata": {},
   "source": [
    "# Author Flair Text"
   ]
  },
  {
   "cell_type": "code",
   "execution_count": 62,
   "metadata": {},
   "outputs": [
    {
     "data": {
      "text/plain": [
       "array(['nan', 'Redditor for 1 month.', 'Student', ...,\n",
       "       'Developing https://alltimehigh.ly', 'Gridcoin fan', '\\\\/eChain'],\n",
       "      dtype=object)"
      ]
     },
     "execution_count": 62,
     "metadata": {},
     "output_type": "execute_result"
    }
   ],
   "source": [
    "df['author_flair_text'].unique()"
   ]
  },
  {
   "cell_type": "code",
   "execution_count": null,
   "metadata": {},
   "outputs": [],
   "source": []
  },
  {
   "cell_type": "markdown",
   "metadata": {},
   "source": [
    "# Body "
   ]
  },
  {
   "cell_type": "code",
   "execution_count": 63,
   "metadata": {},
   "outputs": [
    {
     "data": {
      "text/plain": [
       "Index\n",
       "0                                          Because I sold it\n",
       "1          They probably just airdropped tokens into your...\n",
       "2                                           soon since $5000\n",
       "3          Here is a list of threads in other subreddits ...\n",
       "4          MEW is only set up for ERC20 tokens so make su...\n",
       "                                 ...                        \n",
       "2160614               I'm studying thermo-physics thanks bud\n",
       "2160615                                            [removed]\n",
       "2160616    So. Sell 10k ZIL for some Matrix Ai Network. Z...\n",
       "2160617    I ever said anywhere its \"dooms day\".  Lots of...\n",
       "2160618    Hey Bane, I'm just going to keep posting these...\n",
       "Name: body, Length: 2160619, dtype: object"
      ]
     },
     "execution_count": 63,
     "metadata": {},
     "output_type": "execute_result"
    }
   ],
   "source": [
    "df['body']"
   ]
  },
  {
   "cell_type": "markdown",
   "metadata": {},
   "source": [
    "# Created utc"
   ]
  },
  {
   "cell_type": "code",
   "execution_count": 64,
   "metadata": {},
   "outputs": [
    {
     "data": {
      "text/plain": [
       "2018-03-15 17:43:16    18\n",
       "2018-02-07 17:07:49    11\n",
       "2017-12-30 10:41:43     8\n",
       "2018-02-13 03:24:25     7\n",
       "2018-01-16 22:34:21     7\n",
       "                       ..\n",
       "2018-03-15 14:42:37     1\n",
       "2018-01-12 11:03:00     1\n",
       "2018-02-19 15:42:17     1\n",
       "2018-01-10 05:18:24     1\n",
       "2018-01-08 19:36:48     1\n",
       "Name: created_utc, Length: 1920407, dtype: int64"
      ]
     },
     "execution_count": 64,
     "metadata": {},
     "output_type": "execute_result"
    }
   ],
   "source": [
    "# convert from epoch to day\n",
    "import datetime\n",
    "# Drop nan\n",
    "df['created_utc'] = df['created_utc'].astype(str)\n",
    "\n",
    "for elem in df['created_utc']:\n",
    "    elem = elem.lower()\n",
    "\n",
    "df = df[df['created_utc'] != 'nan']\n",
    "\n",
    "def epoch_to_time(elem):\n",
    "    ydm = datetime.datetime.utcfromtimestamp(int(elem))\n",
    "    return ydm\n",
    "\n",
    "df['created_utc'] = df['created_utc'].apply(epoch_to_time)\n",
    "df['created_utc'].value_counts()"
   ]
  },
  {
   "cell_type": "markdown",
   "metadata": {},
   "source": [
    "# Distinguished"
   ]
  },
  {
   "cell_type": "code",
   "execution_count": 65,
   "metadata": {},
   "outputs": [],
   "source": [
    "df['distinguished'].unique()\n",
    "\n",
    "def moderator_func(elem):\n",
    "    if str(elem) == 'moderator':\n",
    "        mod_bool = True\n",
    "    else:\n",
    "        mod_bool = False\n",
    "    return mod_bool\n",
    "\n",
    "df['distinguished'] = df['distinguished'].apply(moderator_func)\n",
    "df = df.rename(columns={'distinguished':'Moderator'})"
   ]
  },
  {
   "cell_type": "markdown",
   "metadata": {},
   "source": [
    "# Edited"
   ]
  },
  {
   "cell_type": "code",
   "execution_count": 66,
   "metadata": {},
   "outputs": [],
   "source": [
    "df['edited'] = df['edited'].astype(str)\n",
    "\n",
    "\n",
    "def edit_func(elem):\n",
    "    if elem.lower() == 'nan':\n",
    "        ed_time = math.nan\n",
    "    else:\n",
    "        ed_time = datetime.datetime.utcfromtimestamp(int(elem))\n",
    "\n",
    "    return ed_time\n",
    "\n",
    "df['edited'] = df['edited'].apply(edit_func)"
   ]
  },
  {
   "cell_type": "code",
   "execution_count": 67,
   "metadata": {},
   "outputs": [
    {
     "data": {
      "text/plain": [
       "array([                          'NaT', '2017-11-01T00:12:54.000000000',\n",
       "       '2017-11-01T01:59:02.000000000', ...,\n",
       "       '2018-03-20T05:21:54.000000000', '2018-03-20T05:20:38.000000000',\n",
       "       '2018-03-20T13:17:02.000000000'], dtype='datetime64[ns]')"
      ]
     },
     "execution_count": 67,
     "metadata": {},
     "output_type": "execute_result"
    }
   ],
   "source": [
    "df['edited'].unique()"
   ]
  },
  {
   "cell_type": "markdown",
   "metadata": {},
   "source": [
    "# ID "
   ]
  },
  {
   "cell_type": "code",
   "execution_count": 70,
   "metadata": {},
   "outputs": [
    {
     "data": {
      "text/plain": [
       "Index\n",
       "0          dp61rvp\n",
       "1          dp61ttv\n",
       "2          dp61usd\n",
       "3          dp61v3p\n",
       "4          dp61wr9\n",
       "            ...   \n",
       "2160614    dwlqlrc\n",
       "2160615    dwlqm07\n",
       "2160616    dwlqmnm\n",
       "2160617    dwlqmuz\n",
       "2160618    dwlqnf1\n",
       "Name: id, Length: 2160610, dtype: object"
      ]
     },
     "execution_count": 70,
     "metadata": {},
     "output_type": "execute_result"
    }
   ],
   "source": [
    "# can be left as is\n",
    "df['id']"
   ]
  },
  {
   "cell_type": "markdown",
   "metadata": {},
   "source": [
    "# Link ID"
   ]
  },
  {
   "cell_type": "code",
   "execution_count": 73,
   "metadata": {},
   "outputs": [
    {
     "data": {
      "text/plain": [
       "t3_7owmot    15088\n",
       "t3_7qqddk    12486\n",
       "t3_7qz1vp    11430\n",
       "t3_7vcvi0    10163\n",
       "t3_7ugrgt     9848\n",
       "             ...  \n",
       "t3_7v9t36        1\n",
       "t3_7pia9e        1\n",
       "t3_7o827a        1\n",
       "t3_7iwqoi        1\n",
       "t3_7qnwvr        1\n",
       "Name: link_id, Length: 98975, dtype: int64"
      ]
     },
     "execution_count": 73,
     "metadata": {},
     "output_type": "execute_result"
    }
   ],
   "source": [
    "df['link_id'].value_counts()"
   ]
  },
  {
   "cell_type": "markdown",
   "metadata": {},
   "source": [
    "# Parent ID "
   ]
  },
  {
   "cell_type": "code",
   "execution_count": 75,
   "metadata": {},
   "outputs": [
    {
     "data": {
      "text/plain": [
       "t3_7owmot     3389\n",
       "t3_7qqddk     3249\n",
       "t3_7qz1vp     2674\n",
       "t3_7pdp8e     2464\n",
       "t3_7vcvi0     2400\n",
       "              ... \n",
       "t1_dujh19r       1\n",
       "t1_dufnmky       1\n",
       "t1_ds2j5lx       1\n",
       "t1_dsidip9       1\n",
       "t1_dv6psu7       1\n",
       "Name: parent_id, Length: 1039463, dtype: int64"
      ]
     },
     "execution_count": 75,
     "metadata": {},
     "output_type": "execute_result"
    }
   ],
   "source": [
    "df['parent_id'].value_counts()"
   ]
  },
  {
   "cell_type": "markdown",
   "metadata": {},
   "source": [
    "# Permalink"
   ]
  },
  {
   "cell_type": "code",
   "execution_count": 79,
   "metadata": {},
   "outputs": [
    {
     "data": {
      "text/plain": [
       "/r/CryptoCurrency/comments/7glaeg/tomorrow_there_will_be_a_lot_of_newbies_here_lets/dql6ih6/    1\n",
       "/r/CryptoCurrency/comments/7zb9fv/what_is_vertcoin_lightning_network_segwit_enabled/dunrnq0/    1\n",
       "/r/CryptoCurrency/comments/7j64f7/there_is_so_much_innovation_in_the_space_i_feel/dr4segr/      1\n",
       "/r/CryptoCurrency/comments/7zlz33/daily_general_discussion_february_23_2018/duq56np/            1\n",
       "/r/CryptoCurrency/comments/7nzqpm/test/ds5s7ap/                                                 1\n",
       "                                                                                               ..\n",
       "/r/CryptoCurrency/comments/7soghc/arsenal_fc_become_first_in_premier_league_to/dt697v6/         1\n",
       "/r/CryptoCurrency/comments/7s3vio/daily_general_discussion_january_22_2018/dt29a23/             1\n",
       "/r/CryptoCurrency/comments/7wjsoi/daily_general_discussion_february_10_2018/du1cq4a/            1\n",
       "/r/CryptoCurrency/comments/7o2o44/welcome_to_the_age_of_monkey_darts/ds6x5zv/                   1\n",
       "/r/CryptoCurrency/comments/7mglje/can_anyone_recommend_a_tax_professional_in_the/drtqx4p/       1\n",
       "Name: permalink, Length: 2160610, dtype: int64"
      ]
     },
     "execution_count": 79,
     "metadata": {},
     "output_type": "execute_result"
    }
   ],
   "source": [
    "df['permalink'].value_counts()"
   ]
  },
  {
   "cell_type": "markdown",
   "metadata": {},
   "source": [
    "# Retrieved On "
   ]
  },
  {
   "cell_type": "code",
   "execution_count": null,
   "metadata": {},
   "outputs": [],
   "source": [
    "df['retrieved_on'] = df['retrieved_on'].astype(str)\n",
    "\n",
    "\n",
    "def retrieved_func(elem):\n",
    "    if elem.lower() == 'nan':\n",
    "        ed_time = math.nan\n",
    "    else:\n",
    "        ed_time = datetime.datetime.utcfromtimestamp(int(elem))\n",
    "\n",
    "    return ed_time\n",
    "\n",
    "df['retrieved_on'] = df['retrieved_on'].apply(retrieved_func)\n",
    "df['retrieved_on'].value_counts()"
   ]
  },
  {
   "cell_type": "markdown",
   "metadata": {},
   "source": [
    "# Score"
   ]
  },
  {
   "cell_type": "code",
   "execution_count": 89,
   "metadata": {},
   "outputs": [],
   "source": [
    "df['score'] = df['score'].astype(int)"
   ]
  },
  {
   "cell_type": "code",
   "execution_count": 94,
   "metadata": {},
   "outputs": [
    {
     "data": {
      "text/plain": [
       "Index\n",
       "0          10\n",
       "1           1\n",
       "2           0\n",
       "3           1\n",
       "4           1\n",
       "           ..\n",
       "2160614     1\n",
       "2160615     1\n",
       "2160616     1\n",
       "2160617     1\n",
       "2160618     1\n",
       "Name: score, Length: 2160610, dtype: int32"
      ]
     },
     "execution_count": 94,
     "metadata": {},
     "output_type": "execute_result"
    }
   ],
   "source": [
    "df['score']"
   ]
  },
  {
   "cell_type": "markdown",
   "metadata": {},
   "source": [
    "# Stickied"
   ]
  },
  {
   "cell_type": "code",
   "execution_count": 100,
   "metadata": {},
   "outputs": [],
   "source": [
    "def stickied_func(elem):\n",
    "    if str(elem).lower() == 'True':\n",
    "        stick_bool = True\n",
    "    else:\n",
    "        stick_bool = False\n",
    "    return stick_bool\n",
    "\n",
    "df['stickied'] = df['stickied'].apply(stickied_func)"
   ]
  },
  {
   "cell_type": "code",
   "execution_count": 101,
   "metadata": {},
   "outputs": [
    {
     "data": {
      "text/plain": [
       "Index\n",
       "0          False\n",
       "1          False\n",
       "2          False\n",
       "3          False\n",
       "4          False\n",
       "           ...  \n",
       "2160614    False\n",
       "2160615    False\n",
       "2160616    False\n",
       "2160617    False\n",
       "2160618    False\n",
       "Name: stickied, Length: 2160610, dtype: bool"
      ]
     },
     "execution_count": 101,
     "metadata": {},
     "output_type": "execute_result"
    }
   ],
   "source": [
    "df['stickied']"
   ]
  },
  {
   "cell_type": "markdown",
   "metadata": {},
   "source": [
    "# Subreddit"
   ]
  },
  {
   "cell_type": "code",
   "execution_count": 104,
   "metadata": {},
   "outputs": [
    {
     "data": {
      "text/plain": [
       "array(['CryptoCurrency'], dtype=object)"
      ]
     },
     "execution_count": 104,
     "metadata": {},
     "output_type": "execute_result"
    }
   ],
   "source": [
    "df['subreddit'].unique()\n",
    "# to be expected"
   ]
  },
  {
   "cell_type": "markdown",
   "metadata": {},
   "source": [
    "# Subreddit ID"
   ]
  },
  {
   "cell_type": "code",
   "execution_count": 105,
   "metadata": {},
   "outputs": [
    {
     "data": {
      "text/plain": [
       "array(['t5_2wlj3'], dtype=object)"
      ]
     },
     "execution_count": 105,
     "metadata": {},
     "output_type": "execute_result"
    }
   ],
   "source": [
    "df['subreddit_id'].unique()"
   ]
  },
  {
   "cell_type": "markdown",
   "metadata": {},
   "source": [
    "# Pre-processing done!"
   ]
  },
  {
   "cell_type": "code",
   "execution_count": 106,
   "metadata": {},
   "outputs": [
    {
     "data": {
      "text/html": [
       "<div>\n",
       "<style scoped>\n",
       "    .dataframe tbody tr th:only-of-type {\n",
       "        vertical-align: middle;\n",
       "    }\n",
       "\n",
       "    .dataframe tbody tr th {\n",
       "        vertical-align: top;\n",
       "    }\n",
       "\n",
       "    .dataframe thead th {\n",
       "        text-align: right;\n",
       "    }\n",
       "</style>\n",
       "<table border=\"1\" class=\"dataframe\">\n",
       "  <thead>\n",
       "    <tr style=\"text-align: right;\">\n",
       "      <th></th>\n",
       "      <th>author</th>\n",
       "      <th>author_cakeday</th>\n",
       "      <th>author_flair_css_class</th>\n",
       "      <th>author_flair_text</th>\n",
       "      <th>body</th>\n",
       "      <th>created_utc</th>\n",
       "      <th>Moderator</th>\n",
       "      <th>edited</th>\n",
       "      <th>id</th>\n",
       "      <th>link_id</th>\n",
       "      <th>parent_id</th>\n",
       "      <th>permalink</th>\n",
       "      <th>retrieved_on</th>\n",
       "      <th>score</th>\n",
       "      <th>stickied</th>\n",
       "      <th>subreddit</th>\n",
       "      <th>subreddit_id</th>\n",
       "    </tr>\n",
       "    <tr>\n",
       "      <th>Index</th>\n",
       "      <th></th>\n",
       "      <th></th>\n",
       "      <th></th>\n",
       "      <th></th>\n",
       "      <th></th>\n",
       "      <th></th>\n",
       "      <th></th>\n",
       "      <th></th>\n",
       "      <th></th>\n",
       "      <th></th>\n",
       "      <th></th>\n",
       "      <th></th>\n",
       "      <th></th>\n",
       "      <th></th>\n",
       "      <th></th>\n",
       "      <th></th>\n",
       "      <th></th>\n",
       "    </tr>\n",
       "  </thead>\n",
       "  <tbody>\n",
       "    <tr>\n",
       "      <td>0</td>\n",
       "      <td>ShytTalkingScrub</td>\n",
       "      <td>False</td>\n",
       "      <td>noflair</td>\n",
       "      <td>nan</td>\n",
       "      <td>Because I sold it</td>\n",
       "      <td>2017-11-01 00:00:09</td>\n",
       "      <td>False</td>\n",
       "      <td>NaT</td>\n",
       "      <td>dp61rvp</td>\n",
       "      <td>t3_79zwnf</td>\n",
       "      <td>t3_79zwnf</td>\n",
       "      <td>/r/CryptoCurrency/comments/79zwnf/why_is_bitco...</td>\n",
       "      <td>NaT</td>\n",
       "      <td>10</td>\n",
       "      <td>False</td>\n",
       "      <td>CryptoCurrency</td>\n",
       "      <td>t5_2wlj3</td>\n",
       "    </tr>\n",
       "    <tr>\n",
       "      <td>1</td>\n",
       "      <td>Threat-Level-Midnite</td>\n",
       "      <td>False</td>\n",
       "      <td>training</td>\n",
       "      <td>Redditor for 1 month.</td>\n",
       "      <td>They probably just airdropped tokens into your...</td>\n",
       "      <td>2017-11-01 00:01:20</td>\n",
       "      <td>False</td>\n",
       "      <td>NaT</td>\n",
       "      <td>dp61ttv</td>\n",
       "      <td>t3_79txig</td>\n",
       "      <td>t1_dp5hu0f</td>\n",
       "      <td>/r/CryptoCurrency/comments/79txig/daily_genera...</td>\n",
       "      <td>NaT</td>\n",
       "      <td>1</td>\n",
       "      <td>False</td>\n",
       "      <td>CryptoCurrency</td>\n",
       "      <td>t5_2wlj3</td>\n",
       "    </tr>\n",
       "    <tr>\n",
       "      <td>2</td>\n",
       "      <td>e_x_p</td>\n",
       "      <td>False</td>\n",
       "      <td>transition</td>\n",
       "      <td>nan</td>\n",
       "      <td>soon since $5000</td>\n",
       "      <td>2017-11-01 00:01:54</td>\n",
       "      <td>False</td>\n",
       "      <td>NaT</td>\n",
       "      <td>dp61usd</td>\n",
       "      <td>t3_79xisk</td>\n",
       "      <td>t3_79xisk</td>\n",
       "      <td>/r/CryptoCurrency/comments/79xisk/a_trend_i_st...</td>\n",
       "      <td>NaT</td>\n",
       "      <td>0</td>\n",
       "      <td>False</td>\n",
       "      <td>CryptoCurrency</td>\n",
       "      <td>t5_2wlj3</td>\n",
       "    </tr>\n",
       "    <tr>\n",
       "      <td>3</td>\n",
       "      <td>DuplicatesBot</td>\n",
       "      <td>False</td>\n",
       "      <td>training</td>\n",
       "      <td>Redditor for 1 month.</td>\n",
       "      <td>Here is a list of threads in other subreddits ...</td>\n",
       "      <td>2017-11-01 00:02:06</td>\n",
       "      <td>False</td>\n",
       "      <td>NaT</td>\n",
       "      <td>dp61v3p</td>\n",
       "      <td>t3_79zyc6</td>\n",
       "      <td>t3_79zyc6</td>\n",
       "      <td>/r/CryptoCurrency/comments/79zyc6/what_exactly...</td>\n",
       "      <td>NaT</td>\n",
       "      <td>1</td>\n",
       "      <td>False</td>\n",
       "      <td>CryptoCurrency</td>\n",
       "      <td>t5_2wlj3</td>\n",
       "    </tr>\n",
       "    <tr>\n",
       "      <td>4</td>\n",
       "      <td>Threat-Level-Midnite</td>\n",
       "      <td>False</td>\n",
       "      <td>training</td>\n",
       "      <td>Redditor for 1 month.</td>\n",
       "      <td>MEW is only set up for ERC20 tokens so make su...</td>\n",
       "      <td>2017-11-01 00:03:03</td>\n",
       "      <td>False</td>\n",
       "      <td>NaT</td>\n",
       "      <td>dp61wr9</td>\n",
       "      <td>t3_79txig</td>\n",
       "      <td>t1_dp60kf0</td>\n",
       "      <td>/r/CryptoCurrency/comments/79txig/daily_genera...</td>\n",
       "      <td>NaT</td>\n",
       "      <td>1</td>\n",
       "      <td>False</td>\n",
       "      <td>CryptoCurrency</td>\n",
       "      <td>t5_2wlj3</td>\n",
       "    </tr>\n",
       "    <tr>\n",
       "      <td>...</td>\n",
       "      <td>...</td>\n",
       "      <td>...</td>\n",
       "      <td>...</td>\n",
       "      <td>...</td>\n",
       "      <td>...</td>\n",
       "      <td>...</td>\n",
       "      <td>...</td>\n",
       "      <td>...</td>\n",
       "      <td>...</td>\n",
       "      <td>...</td>\n",
       "      <td>...</td>\n",
       "      <td>...</td>\n",
       "      <td>...</td>\n",
       "      <td>...</td>\n",
       "      <td>...</td>\n",
       "      <td>...</td>\n",
       "      <td>...</td>\n",
       "    </tr>\n",
       "    <tr>\n",
       "      <td>2160614</td>\n",
       "      <td>Bigvardaddy</td>\n",
       "      <td>False</td>\n",
       "      <td>Training</td>\n",
       "      <td>Redditor for 8 months.</td>\n",
       "      <td>I'm studying thermo-physics thanks bud</td>\n",
       "      <td>2018-03-31 23:58:58</td>\n",
       "      <td>False</td>\n",
       "      <td>NaT</td>\n",
       "      <td>dwlqlrc</td>\n",
       "      <td>t3_887zgf</td>\n",
       "      <td>t1_dwixhcv</td>\n",
       "      <td>/r/CryptoCurrency/comments/887zgf/til_the_supp...</td>\n",
       "      <td>2018-03-31 23:59:00</td>\n",
       "      <td>1</td>\n",
       "      <td>False</td>\n",
       "      <td>CryptoCurrency</td>\n",
       "      <td>t5_2wlj3</td>\n",
       "    </tr>\n",
       "    <tr>\n",
       "      <td>2160615</td>\n",
       "      <td>[deleted]</td>\n",
       "      <td>False</td>\n",
       "      <td>NaN</td>\n",
       "      <td>nan</td>\n",
       "      <td>[removed]</td>\n",
       "      <td>2018-03-31 23:59:07</td>\n",
       "      <td>False</td>\n",
       "      <td>NaT</td>\n",
       "      <td>dwlqm07</td>\n",
       "      <td>t3_88mpgv</td>\n",
       "      <td>t3_88mpgv</td>\n",
       "      <td>/r/CryptoCurrency/comments/88mpgv/how_to_ta_co...</td>\n",
       "      <td>2018-03-31 23:59:08</td>\n",
       "      <td>1</td>\n",
       "      <td>False</td>\n",
       "      <td>CryptoCurrency</td>\n",
       "      <td>t5_2wlj3</td>\n",
       "    </tr>\n",
       "    <tr>\n",
       "      <td>2160616</td>\n",
       "      <td>radarmike</td>\n",
       "      <td>False</td>\n",
       "      <td>Warning-level1</td>\n",
       "      <td>6 - 7 years account age. 350 - 700 comment karma.</td>\n",
       "      <td>So. Sell 10k ZIL for some Matrix Ai Network. Z...</td>\n",
       "      <td>2018-03-31 23:59:27</td>\n",
       "      <td>False</td>\n",
       "      <td>NaT</td>\n",
       "      <td>dwlqmnm</td>\n",
       "      <td>t3_88gupa</td>\n",
       "      <td>t3_88gupa</td>\n",
       "      <td>/r/CryptoCurrency/comments/88gupa/daily_genera...</td>\n",
       "      <td>2018-03-31 23:59:28</td>\n",
       "      <td>1</td>\n",
       "      <td>False</td>\n",
       "      <td>CryptoCurrency</td>\n",
       "      <td>t5_2wlj3</td>\n",
       "    </tr>\n",
       "    <tr>\n",
       "      <td>2160617</td>\n",
       "      <td>arsonbunny</td>\n",
       "      <td>False</td>\n",
       "      <td>Analyst</td>\n",
       "      <td>Analyst</td>\n",
       "      <td>I ever said anywhere its \"dooms day\".  Lots of...</td>\n",
       "      <td>2018-03-31 23:59:34</td>\n",
       "      <td>False</td>\n",
       "      <td>NaT</td>\n",
       "      <td>dwlqmuz</td>\n",
       "      <td>t3_88khpp</td>\n",
       "      <td>t1_dwlqemq</td>\n",
       "      <td>/r/CryptoCurrency/comments/88khpp/bitcoin_you_...</td>\n",
       "      <td>2018-03-31 23:59:36</td>\n",
       "      <td>1</td>\n",
       "      <td>False</td>\n",
       "      <td>CryptoCurrency</td>\n",
       "      <td>t5_2wlj3</td>\n",
       "    </tr>\n",
       "    <tr>\n",
       "      <td>2160618</td>\n",
       "      <td>mobst</td>\n",
       "      <td>False</td>\n",
       "      <td>Training-2</td>\n",
       "      <td>2 - 3 years account age. 300 - 1000 comment ka...</td>\n",
       "      <td>Hey Bane, I'm just going to keep posting these...</td>\n",
       "      <td>2018-03-31 23:59:52</td>\n",
       "      <td>False</td>\n",
       "      <td>NaT</td>\n",
       "      <td>dwlqnf1</td>\n",
       "      <td>t3_88lghb</td>\n",
       "      <td>t1_dwlprfk</td>\n",
       "      <td>/r/CryptoCurrency/comments/88lghb/telegram_sca...</td>\n",
       "      <td>2018-03-31 23:59:53</td>\n",
       "      <td>1</td>\n",
       "      <td>False</td>\n",
       "      <td>CryptoCurrency</td>\n",
       "      <td>t5_2wlj3</td>\n",
       "    </tr>\n",
       "  </tbody>\n",
       "</table>\n",
       "<p>2160610 rows × 17 columns</p>\n",
       "</div>"
      ],
      "text/plain": [
       "                       author  author_cakeday author_flair_css_class  \\\n",
       "Index                                                                  \n",
       "0            ShytTalkingScrub           False                noflair   \n",
       "1        Threat-Level-Midnite           False               training   \n",
       "2                       e_x_p           False             transition   \n",
       "3               DuplicatesBot           False               training   \n",
       "4        Threat-Level-Midnite           False               training   \n",
       "...                       ...             ...                    ...   \n",
       "2160614           Bigvardaddy           False               Training   \n",
       "2160615             [deleted]           False                    NaN   \n",
       "2160616             radarmike           False         Warning-level1   \n",
       "2160617            arsonbunny           False                Analyst   \n",
       "2160618                 mobst           False             Training-2   \n",
       "\n",
       "                                         author_flair_text  \\\n",
       "Index                                                        \n",
       "0                                                      nan   \n",
       "1                                    Redditor for 1 month.   \n",
       "2                                                      nan   \n",
       "3                                    Redditor for 1 month.   \n",
       "4                                    Redditor for 1 month.   \n",
       "...                                                    ...   \n",
       "2160614                             Redditor for 8 months.   \n",
       "2160615                                                nan   \n",
       "2160616  6 - 7 years account age. 350 - 700 comment karma.   \n",
       "2160617                                            Analyst   \n",
       "2160618  2 - 3 years account age. 300 - 1000 comment ka...   \n",
       "\n",
       "                                                      body  \\\n",
       "Index                                                        \n",
       "0                                        Because I sold it   \n",
       "1        They probably just airdropped tokens into your...   \n",
       "2                                         soon since $5000   \n",
       "3        Here is a list of threads in other subreddits ...   \n",
       "4        MEW is only set up for ERC20 tokens so make su...   \n",
       "...                                                    ...   \n",
       "2160614             I'm studying thermo-physics thanks bud   \n",
       "2160615                                          [removed]   \n",
       "2160616  So. Sell 10k ZIL for some Matrix Ai Network. Z...   \n",
       "2160617  I ever said anywhere its \"dooms day\".  Lots of...   \n",
       "2160618  Hey Bane, I'm just going to keep posting these...   \n",
       "\n",
       "                created_utc  Moderator edited       id    link_id   parent_id  \\\n",
       "Index                                                                           \n",
       "0       2017-11-01 00:00:09      False    NaT  dp61rvp  t3_79zwnf   t3_79zwnf   \n",
       "1       2017-11-01 00:01:20      False    NaT  dp61ttv  t3_79txig  t1_dp5hu0f   \n",
       "2       2017-11-01 00:01:54      False    NaT  dp61usd  t3_79xisk   t3_79xisk   \n",
       "3       2017-11-01 00:02:06      False    NaT  dp61v3p  t3_79zyc6   t3_79zyc6   \n",
       "4       2017-11-01 00:03:03      False    NaT  dp61wr9  t3_79txig  t1_dp60kf0   \n",
       "...                     ...        ...    ...      ...        ...         ...   \n",
       "2160614 2018-03-31 23:58:58      False    NaT  dwlqlrc  t3_887zgf  t1_dwixhcv   \n",
       "2160615 2018-03-31 23:59:07      False    NaT  dwlqm07  t3_88mpgv   t3_88mpgv   \n",
       "2160616 2018-03-31 23:59:27      False    NaT  dwlqmnm  t3_88gupa   t3_88gupa   \n",
       "2160617 2018-03-31 23:59:34      False    NaT  dwlqmuz  t3_88khpp  t1_dwlqemq   \n",
       "2160618 2018-03-31 23:59:52      False    NaT  dwlqnf1  t3_88lghb  t1_dwlprfk   \n",
       "\n",
       "                                                 permalink  \\\n",
       "Index                                                        \n",
       "0        /r/CryptoCurrency/comments/79zwnf/why_is_bitco...   \n",
       "1        /r/CryptoCurrency/comments/79txig/daily_genera...   \n",
       "2        /r/CryptoCurrency/comments/79xisk/a_trend_i_st...   \n",
       "3        /r/CryptoCurrency/comments/79zyc6/what_exactly...   \n",
       "4        /r/CryptoCurrency/comments/79txig/daily_genera...   \n",
       "...                                                    ...   \n",
       "2160614  /r/CryptoCurrency/comments/887zgf/til_the_supp...   \n",
       "2160615  /r/CryptoCurrency/comments/88mpgv/how_to_ta_co...   \n",
       "2160616  /r/CryptoCurrency/comments/88gupa/daily_genera...   \n",
       "2160617  /r/CryptoCurrency/comments/88khpp/bitcoin_you_...   \n",
       "2160618  /r/CryptoCurrency/comments/88lghb/telegram_sca...   \n",
       "\n",
       "                retrieved_on  score  stickied       subreddit subreddit_id  \n",
       "Index                                                                       \n",
       "0                        NaT     10     False  CryptoCurrency     t5_2wlj3  \n",
       "1                        NaT      1     False  CryptoCurrency     t5_2wlj3  \n",
       "2                        NaT      0     False  CryptoCurrency     t5_2wlj3  \n",
       "3                        NaT      1     False  CryptoCurrency     t5_2wlj3  \n",
       "4                        NaT      1     False  CryptoCurrency     t5_2wlj3  \n",
       "...                      ...    ...       ...             ...          ...  \n",
       "2160614  2018-03-31 23:59:00      1     False  CryptoCurrency     t5_2wlj3  \n",
       "2160615  2018-03-31 23:59:08      1     False  CryptoCurrency     t5_2wlj3  \n",
       "2160616  2018-03-31 23:59:28      1     False  CryptoCurrency     t5_2wlj3  \n",
       "2160617  2018-03-31 23:59:36      1     False  CryptoCurrency     t5_2wlj3  \n",
       "2160618  2018-03-31 23:59:53      1     False  CryptoCurrency     t5_2wlj3  \n",
       "\n",
       "[2160610 rows x 17 columns]"
      ]
     },
     "execution_count": 106,
     "metadata": {},
     "output_type": "execute_result"
    }
   ],
   "source": [
    "df"
   ]
  },
  {
   "cell_type": "code",
   "execution_count": null,
   "metadata": {},
   "outputs": [],
   "source": []
  }
 ],
 "metadata": {
  "kernelspec": {
   "display_name": "Python 3",
   "language": "python",
   "name": "python3"
  },
  "language_info": {
   "codemirror_mode": {
    "name": "ipython",
    "version": 3
   },
   "file_extension": ".py",
   "mimetype": "text/x-python",
   "name": "python",
   "nbconvert_exporter": "python",
   "pygments_lexer": "ipython3",
   "version": "3.7.4"
  }
 },
 "nbformat": 4,
 "nbformat_minor": 2
}
