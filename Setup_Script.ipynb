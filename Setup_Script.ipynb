{
 "cells": [
  {
   "cell_type": "code",
   "execution_count": 54,
   "metadata": {},
   "outputs": [],
   "source": [
    "import pandas as pd\n",
    "import numpy as np\n",
    "import matplotlib.pyplot as plt\n",
    "%matplotlib inline\n",
    "import time\n",
    "import datetime"
   ]
  },
  {
   "cell_type": "code",
   "execution_count": 55,
   "metadata": {},
   "outputs": [],
   "source": [
    "df = pd.read_csv('final_dataset.csv', index_col=0)"
   ]
  },
  {
   "cell_type": "code",
   "execution_count": 56,
   "metadata": {},
   "outputs": [
    {
     "data": {
      "text/plain": [
       "(574623, 7)"
      ]
     },
     "execution_count": 56,
     "metadata": {},
     "output_type": "execute_result"
    }
   ],
   "source": [
    "df.shape"
   ]
  },
  {
   "cell_type": "code",
   "execution_count": 57,
   "metadata": {},
   "outputs": [
    {
     "data": {
      "text/plain": [
       "Index(['id', 'timestamp', 'author', 'score', 'comments', 'title', 'text'], dtype='object')"
      ]
     },
     "execution_count": 57,
     "metadata": {},
     "output_type": "execute_result"
    }
   ],
   "source": [
    "df.columns"
   ]
  },
  {
   "cell_type": "markdown",
   "metadata": {},
   "source": [
    "# ID"
   ]
  },
  {
   "cell_type": "code",
   "execution_count": 58,
   "metadata": {},
   "outputs": [],
   "source": [
    "df['id'] = df['id'].astype(str)"
   ]
  },
  {
   "cell_type": "code",
   "execution_count": 59,
   "metadata": {},
   "outputs": [
    {
     "name": "stdout",
     "output_type": "stream",
     "text": [
      "574623\n",
      "574623\n"
     ]
    }
   ],
   "source": [
    "print(len(df['id']))\n",
    "print(df['id'].nunique())"
   ]
  },
  {
   "cell_type": "markdown",
   "metadata": {},
   "source": [
    "# Timestamp"
   ]
  },
  {
   "cell_type": "code",
   "execution_count": 60,
   "metadata": {},
   "outputs": [],
   "source": [
    "df['timestamp'] = df['timestamp'].astype(int)\n",
    "\n",
    "def epoch_to_time(elem):\n",
    "    a = datetime.datetime.utcfromtimestamp(elem)\n",
    "    return a\n",
    "\n",
    "def time_to_date(elem):\n",
    "    b = elem.date()\n",
    "    return b\n",
    "\n",
    "df['Time'] = df['timestamp'].apply(epoch_to_time)\n",
    "df['Day'] = df['Time'].apply(time_to_date)"
   ]
  },
  {
   "cell_type": "code",
   "execution_count": 61,
   "metadata": {
    "scrolled": true
   },
   "outputs": [
    {
     "data": {
      "text/html": [
       "<div>\n",
       "<style scoped>\n",
       "    .dataframe tbody tr th:only-of-type {\n",
       "        vertical-align: middle;\n",
       "    }\n",
       "\n",
       "    .dataframe tbody tr th {\n",
       "        vertical-align: top;\n",
       "    }\n",
       "\n",
       "    .dataframe thead th {\n",
       "        text-align: right;\n",
       "    }\n",
       "</style>\n",
       "<table border=\"1\" class=\"dataframe\">\n",
       "  <thead>\n",
       "    <tr style=\"text-align: right;\">\n",
       "      <th></th>\n",
       "      <th>id</th>\n",
       "      <th>timestamp</th>\n",
       "      <th>author</th>\n",
       "      <th>score</th>\n",
       "      <th>comments</th>\n",
       "      <th>title</th>\n",
       "      <th>text</th>\n",
       "      <th>Time</th>\n",
       "      <th>Day</th>\n",
       "    </tr>\n",
       "  </thead>\n",
       "  <tbody>\n",
       "    <tr>\n",
       "      <th>0</th>\n",
       "      <td>3yyux2</td>\n",
       "      <td>1451606523</td>\n",
       "      <td>HodlDwon</td>\n",
       "      <td>1</td>\n",
       "      <td>0</td>\n",
       "      <td>Toomim BTCC Comment</td>\n",
       "      <td>NaN</td>\n",
       "      <td>2016-01-01 00:02:03</td>\n",
       "      <td>2016-01-01</td>\n",
       "    </tr>\n",
       "    <tr>\n",
       "      <th>1</th>\n",
       "      <td>3yyvmp</td>\n",
       "      <td>1451606917</td>\n",
       "      <td>[deleted]</td>\n",
       "      <td>63</td>\n",
       "      <td>149</td>\n",
       "      <td>They think Satoshi was wrong</td>\n",
       "      <td>[deleted]</td>\n",
       "      <td>2016-01-01 00:08:37</td>\n",
       "      <td>2016-01-01</td>\n",
       "    </tr>\n",
       "    <tr>\n",
       "      <th>2</th>\n",
       "      <td>3yyx1b</td>\n",
       "      <td>1451607665</td>\n",
       "      <td>Bonleta</td>\n",
       "      <td>6</td>\n",
       "      <td>0</td>\n",
       "      <td>Bitcoin crowned best-performing currency of 2015</td>\n",
       "      <td>NaN</td>\n",
       "      <td>2016-01-01 00:21:05</td>\n",
       "      <td>2016-01-01</td>\n",
       "    </tr>\n",
       "    <tr>\n",
       "      <th>3</th>\n",
       "      <td>3yyyoz</td>\n",
       "      <td>1451608583</td>\n",
       "      <td>wakka54</td>\n",
       "      <td>2</td>\n",
       "      <td>3</td>\n",
       "      <td>If there an automated program to search a hard...</td>\n",
       "      <td>I remember mining in 2010 but quit because it ...</td>\n",
       "      <td>2016-01-01 00:36:23</td>\n",
       "      <td>2016-01-01</td>\n",
       "    </tr>\n",
       "    <tr>\n",
       "      <th>4</th>\n",
       "      <td>3yyyqr</td>\n",
       "      <td>1451608613</td>\n",
       "      <td>camponez</td>\n",
       "      <td>1</td>\n",
       "      <td>3</td>\n",
       "      <td>Happy New 2016 FIAT!</td>\n",
       "      <td>NaN</td>\n",
       "      <td>2016-01-01 00:36:53</td>\n",
       "      <td>2016-01-01</td>\n",
       "    </tr>\n",
       "    <tr>\n",
       "      <th>...</th>\n",
       "      <td>...</td>\n",
       "      <td>...</td>\n",
       "      <td>...</td>\n",
       "      <td>...</td>\n",
       "      <td>...</td>\n",
       "      <td>...</td>\n",
       "      <td>...</td>\n",
       "      <td>...</td>\n",
       "      <td>...</td>\n",
       "    </tr>\n",
       "    <tr>\n",
       "      <th>45578</th>\n",
       "      <td>ko0wkc</td>\n",
       "      <td>1609458770</td>\n",
       "      <td>BitcoinIsEasy</td>\n",
       "      <td>1</td>\n",
       "      <td>0</td>\n",
       "      <td>Look like for Idiots but its Amazing</td>\n",
       "      <td>NaN</td>\n",
       "      <td>2020-12-31 23:52:50</td>\n",
       "      <td>2020-12-31</td>\n",
       "    </tr>\n",
       "    <tr>\n",
       "      <th>45579</th>\n",
       "      <td>ko0xpi</td>\n",
       "      <td>1609458893</td>\n",
       "      <td>idknooneknowsme</td>\n",
       "      <td>1</td>\n",
       "      <td>5</td>\n",
       "      <td>How to recover bitcoin</td>\n",
       "      <td>So I’m actually not a n00b at all, I’m holding...</td>\n",
       "      <td>2020-12-31 23:54:53</td>\n",
       "      <td>2020-12-31</td>\n",
       "    </tr>\n",
       "    <tr>\n",
       "      <th>45580</th>\n",
       "      <td>ko0ycw</td>\n",
       "      <td>1609458963</td>\n",
       "      <td>Independent-Front860</td>\n",
       "      <td>1</td>\n",
       "      <td>0</td>\n",
       "      <td>Defending Japan, the land of Satoshi Nakamoto ...</td>\n",
       "      <td>NaN</td>\n",
       "      <td>2020-12-31 23:56:03</td>\n",
       "      <td>2020-12-31</td>\n",
       "    </tr>\n",
       "    <tr>\n",
       "      <th>45581</th>\n",
       "      <td>ko0yoo</td>\n",
       "      <td>1609458998</td>\n",
       "      <td>18gorrillas</td>\n",
       "      <td>1</td>\n",
       "      <td>1</td>\n",
       "      <td>I hear “down the rabbit hole” all the time.......</td>\n",
       "      <td>NaN</td>\n",
       "      <td>2020-12-31 23:56:38</td>\n",
       "      <td>2020-12-31</td>\n",
       "    </tr>\n",
       "    <tr>\n",
       "      <th>45582</th>\n",
       "      <td>ko0yrr</td>\n",
       "      <td>1609459009</td>\n",
       "      <td>_BlockBot_</td>\n",
       "      <td>1</td>\n",
       "      <td>0</td>\n",
       "      <td>4 reasons why the top 15 richest Bitcoin walle...</td>\n",
       "      <td>NaN</td>\n",
       "      <td>2020-12-31 23:56:49</td>\n",
       "      <td>2020-12-31</td>\n",
       "    </tr>\n",
       "  </tbody>\n",
       "</table>\n",
       "<p>574623 rows × 9 columns</p>\n",
       "</div>"
      ],
      "text/plain": [
       "           id   timestamp                author  score  comments  \\\n",
       "0      3yyux2  1451606523              HodlDwon      1         0   \n",
       "1      3yyvmp  1451606917             [deleted]     63       149   \n",
       "2      3yyx1b  1451607665               Bonleta      6         0   \n",
       "3      3yyyoz  1451608583               wakka54      2         3   \n",
       "4      3yyyqr  1451608613              camponez      1         3   \n",
       "...       ...         ...                   ...    ...       ...   \n",
       "45578  ko0wkc  1609458770         BitcoinIsEasy      1         0   \n",
       "45579  ko0xpi  1609458893       idknooneknowsme      1         5   \n",
       "45580  ko0ycw  1609458963  Independent-Front860      1         0   \n",
       "45581  ko0yoo  1609458998           18gorrillas      1         1   \n",
       "45582  ko0yrr  1609459009            _BlockBot_      1         0   \n",
       "\n",
       "                                                   title  \\\n",
       "0                                    Toomim BTCC Comment   \n",
       "1                           They think Satoshi was wrong   \n",
       "2       Bitcoin crowned best-performing currency of 2015   \n",
       "3      If there an automated program to search a hard...   \n",
       "4                                   Happy New 2016 FIAT!   \n",
       "...                                                  ...   \n",
       "45578               Look like for Idiots but its Amazing   \n",
       "45579                             How to recover bitcoin   \n",
       "45580  Defending Japan, the land of Satoshi Nakamoto ...   \n",
       "45581  I hear “down the rabbit hole” all the time.......   \n",
       "45582  4 reasons why the top 15 richest Bitcoin walle...   \n",
       "\n",
       "                                                    text                Time  \\\n",
       "0                                                    NaN 2016-01-01 00:02:03   \n",
       "1                                              [deleted] 2016-01-01 00:08:37   \n",
       "2                                                    NaN 2016-01-01 00:21:05   \n",
       "3      I remember mining in 2010 but quit because it ... 2016-01-01 00:36:23   \n",
       "4                                                    NaN 2016-01-01 00:36:53   \n",
       "...                                                  ...                 ...   \n",
       "45578                                                NaN 2020-12-31 23:52:50   \n",
       "45579  So I’m actually not a n00b at all, I’m holding... 2020-12-31 23:54:53   \n",
       "45580                                                NaN 2020-12-31 23:56:03   \n",
       "45581                                                NaN 2020-12-31 23:56:38   \n",
       "45582                                                NaN 2020-12-31 23:56:49   \n",
       "\n",
       "              Day  \n",
       "0      2016-01-01  \n",
       "1      2016-01-01  \n",
       "2      2016-01-01  \n",
       "3      2016-01-01  \n",
       "4      2016-01-01  \n",
       "...           ...  \n",
       "45578  2020-12-31  \n",
       "45579  2020-12-31  \n",
       "45580  2020-12-31  \n",
       "45581  2020-12-31  \n",
       "45582  2020-12-31  \n",
       "\n",
       "[574623 rows x 9 columns]"
      ]
     },
     "execution_count": 61,
     "metadata": {},
     "output_type": "execute_result"
    }
   ],
   "source": [
    "df"
   ]
  },
  {
   "cell_type": "markdown",
   "metadata": {},
   "source": [
    "# Author"
   ]
  },
  {
   "cell_type": "code",
   "execution_count": 62,
   "metadata": {},
   "outputs": [],
   "source": [
    "df['author'] = df['author'].astype(str)"
   ]
  },
  {
   "cell_type": "markdown",
   "metadata": {},
   "source": [
    "# Score"
   ]
  },
  {
   "cell_type": "code",
   "execution_count": 63,
   "metadata": {},
   "outputs": [],
   "source": [
    "df['score'] = df['score'].astype(int)"
   ]
  },
  {
   "cell_type": "markdown",
   "metadata": {},
   "source": [
    "# Comments"
   ]
  },
  {
   "cell_type": "code",
   "execution_count": 64,
   "metadata": {},
   "outputs": [],
   "source": [
    "df['comments'] = df['comments'].astype(int)"
   ]
  },
  {
   "cell_type": "markdown",
   "metadata": {},
   "source": [
    "# Text"
   ]
  },
  {
   "cell_type": "code",
   "execution_count": 65,
   "metadata": {},
   "outputs": [],
   "source": [
    "df['text'] = df['text'].astype(str)"
   ]
  },
  {
   "cell_type": "code",
   "execution_count": 66,
   "metadata": {},
   "outputs": [
    {
     "data": {
      "text/plain": [
       "\"I remember mining in 2010 but quit because it was only $12 but I'm wondering if there's a way to go look for the files? I never reformat my hard drives so it's probably somewhere.\""
      ]
     },
     "execution_count": 66,
     "metadata": {},
     "output_type": "execute_result"
    }
   ],
   "source": [
    "df['text'].iloc[3]"
   ]
  },
  {
   "cell_type": "markdown",
   "metadata": {},
   "source": [
    "# Setup done!"
   ]
  },
  {
   "cell_type": "code",
   "execution_count": 67,
   "metadata": {},
   "outputs": [
    {
     "data": {
      "text/html": [
       "<div>\n",
       "<style scoped>\n",
       "    .dataframe tbody tr th:only-of-type {\n",
       "        vertical-align: middle;\n",
       "    }\n",
       "\n",
       "    .dataframe tbody tr th {\n",
       "        vertical-align: top;\n",
       "    }\n",
       "\n",
       "    .dataframe thead th {\n",
       "        text-align: right;\n",
       "    }\n",
       "</style>\n",
       "<table border=\"1\" class=\"dataframe\">\n",
       "  <thead>\n",
       "    <tr style=\"text-align: right;\">\n",
       "      <th></th>\n",
       "      <th>id</th>\n",
       "      <th>timestamp</th>\n",
       "      <th>author</th>\n",
       "      <th>score</th>\n",
       "      <th>comments</th>\n",
       "      <th>title</th>\n",
       "      <th>text</th>\n",
       "      <th>Time</th>\n",
       "      <th>Day</th>\n",
       "    </tr>\n",
       "  </thead>\n",
       "  <tbody>\n",
       "    <tr>\n",
       "      <th>0</th>\n",
       "      <td>3yyux2</td>\n",
       "      <td>1451606523</td>\n",
       "      <td>HodlDwon</td>\n",
       "      <td>1</td>\n",
       "      <td>0</td>\n",
       "      <td>Toomim BTCC Comment</td>\n",
       "      <td>nan</td>\n",
       "      <td>2016-01-01 00:02:03</td>\n",
       "      <td>2016-01-01</td>\n",
       "    </tr>\n",
       "    <tr>\n",
       "      <th>1</th>\n",
       "      <td>3yyvmp</td>\n",
       "      <td>1451606917</td>\n",
       "      <td>[deleted]</td>\n",
       "      <td>63</td>\n",
       "      <td>149</td>\n",
       "      <td>They think Satoshi was wrong</td>\n",
       "      <td>[deleted]</td>\n",
       "      <td>2016-01-01 00:08:37</td>\n",
       "      <td>2016-01-01</td>\n",
       "    </tr>\n",
       "    <tr>\n",
       "      <th>2</th>\n",
       "      <td>3yyx1b</td>\n",
       "      <td>1451607665</td>\n",
       "      <td>Bonleta</td>\n",
       "      <td>6</td>\n",
       "      <td>0</td>\n",
       "      <td>Bitcoin crowned best-performing currency of 2015</td>\n",
       "      <td>nan</td>\n",
       "      <td>2016-01-01 00:21:05</td>\n",
       "      <td>2016-01-01</td>\n",
       "    </tr>\n",
       "    <tr>\n",
       "      <th>3</th>\n",
       "      <td>3yyyoz</td>\n",
       "      <td>1451608583</td>\n",
       "      <td>wakka54</td>\n",
       "      <td>2</td>\n",
       "      <td>3</td>\n",
       "      <td>If there an automated program to search a hard...</td>\n",
       "      <td>I remember mining in 2010 but quit because it ...</td>\n",
       "      <td>2016-01-01 00:36:23</td>\n",
       "      <td>2016-01-01</td>\n",
       "    </tr>\n",
       "    <tr>\n",
       "      <th>4</th>\n",
       "      <td>3yyyqr</td>\n",
       "      <td>1451608613</td>\n",
       "      <td>camponez</td>\n",
       "      <td>1</td>\n",
       "      <td>3</td>\n",
       "      <td>Happy New 2016 FIAT!</td>\n",
       "      <td>nan</td>\n",
       "      <td>2016-01-01 00:36:53</td>\n",
       "      <td>2016-01-01</td>\n",
       "    </tr>\n",
       "    <tr>\n",
       "      <th>...</th>\n",
       "      <td>...</td>\n",
       "      <td>...</td>\n",
       "      <td>...</td>\n",
       "      <td>...</td>\n",
       "      <td>...</td>\n",
       "      <td>...</td>\n",
       "      <td>...</td>\n",
       "      <td>...</td>\n",
       "      <td>...</td>\n",
       "    </tr>\n",
       "    <tr>\n",
       "      <th>45578</th>\n",
       "      <td>ko0wkc</td>\n",
       "      <td>1609458770</td>\n",
       "      <td>BitcoinIsEasy</td>\n",
       "      <td>1</td>\n",
       "      <td>0</td>\n",
       "      <td>Look like for Idiots but its Amazing</td>\n",
       "      <td>nan</td>\n",
       "      <td>2020-12-31 23:52:50</td>\n",
       "      <td>2020-12-31</td>\n",
       "    </tr>\n",
       "    <tr>\n",
       "      <th>45579</th>\n",
       "      <td>ko0xpi</td>\n",
       "      <td>1609458893</td>\n",
       "      <td>idknooneknowsme</td>\n",
       "      <td>1</td>\n",
       "      <td>5</td>\n",
       "      <td>How to recover bitcoin</td>\n",
       "      <td>So I’m actually not a n00b at all, I’m holding...</td>\n",
       "      <td>2020-12-31 23:54:53</td>\n",
       "      <td>2020-12-31</td>\n",
       "    </tr>\n",
       "    <tr>\n",
       "      <th>45580</th>\n",
       "      <td>ko0ycw</td>\n",
       "      <td>1609458963</td>\n",
       "      <td>Independent-Front860</td>\n",
       "      <td>1</td>\n",
       "      <td>0</td>\n",
       "      <td>Defending Japan, the land of Satoshi Nakamoto ...</td>\n",
       "      <td>nan</td>\n",
       "      <td>2020-12-31 23:56:03</td>\n",
       "      <td>2020-12-31</td>\n",
       "    </tr>\n",
       "    <tr>\n",
       "      <th>45581</th>\n",
       "      <td>ko0yoo</td>\n",
       "      <td>1609458998</td>\n",
       "      <td>18gorrillas</td>\n",
       "      <td>1</td>\n",
       "      <td>1</td>\n",
       "      <td>I hear “down the rabbit hole” all the time.......</td>\n",
       "      <td>nan</td>\n",
       "      <td>2020-12-31 23:56:38</td>\n",
       "      <td>2020-12-31</td>\n",
       "    </tr>\n",
       "    <tr>\n",
       "      <th>45582</th>\n",
       "      <td>ko0yrr</td>\n",
       "      <td>1609459009</td>\n",
       "      <td>_BlockBot_</td>\n",
       "      <td>1</td>\n",
       "      <td>0</td>\n",
       "      <td>4 reasons why the top 15 richest Bitcoin walle...</td>\n",
       "      <td>nan</td>\n",
       "      <td>2020-12-31 23:56:49</td>\n",
       "      <td>2020-12-31</td>\n",
       "    </tr>\n",
       "  </tbody>\n",
       "</table>\n",
       "<p>574623 rows × 9 columns</p>\n",
       "</div>"
      ],
      "text/plain": [
       "           id   timestamp                author  score  comments  \\\n",
       "0      3yyux2  1451606523              HodlDwon      1         0   \n",
       "1      3yyvmp  1451606917             [deleted]     63       149   \n",
       "2      3yyx1b  1451607665               Bonleta      6         0   \n",
       "3      3yyyoz  1451608583               wakka54      2         3   \n",
       "4      3yyyqr  1451608613              camponez      1         3   \n",
       "...       ...         ...                   ...    ...       ...   \n",
       "45578  ko0wkc  1609458770         BitcoinIsEasy      1         0   \n",
       "45579  ko0xpi  1609458893       idknooneknowsme      1         5   \n",
       "45580  ko0ycw  1609458963  Independent-Front860      1         0   \n",
       "45581  ko0yoo  1609458998           18gorrillas      1         1   \n",
       "45582  ko0yrr  1609459009            _BlockBot_      1         0   \n",
       "\n",
       "                                                   title  \\\n",
       "0                                    Toomim BTCC Comment   \n",
       "1                           They think Satoshi was wrong   \n",
       "2       Bitcoin crowned best-performing currency of 2015   \n",
       "3      If there an automated program to search a hard...   \n",
       "4                                   Happy New 2016 FIAT!   \n",
       "...                                                  ...   \n",
       "45578               Look like for Idiots but its Amazing   \n",
       "45579                             How to recover bitcoin   \n",
       "45580  Defending Japan, the land of Satoshi Nakamoto ...   \n",
       "45581  I hear “down the rabbit hole” all the time.......   \n",
       "45582  4 reasons why the top 15 richest Bitcoin walle...   \n",
       "\n",
       "                                                    text                Time  \\\n",
       "0                                                    nan 2016-01-01 00:02:03   \n",
       "1                                              [deleted] 2016-01-01 00:08:37   \n",
       "2                                                    nan 2016-01-01 00:21:05   \n",
       "3      I remember mining in 2010 but quit because it ... 2016-01-01 00:36:23   \n",
       "4                                                    nan 2016-01-01 00:36:53   \n",
       "...                                                  ...                 ...   \n",
       "45578                                                nan 2020-12-31 23:52:50   \n",
       "45579  So I’m actually not a n00b at all, I’m holding... 2020-12-31 23:54:53   \n",
       "45580                                                nan 2020-12-31 23:56:03   \n",
       "45581                                                nan 2020-12-31 23:56:38   \n",
       "45582                                                nan 2020-12-31 23:56:49   \n",
       "\n",
       "              Day  \n",
       "0      2016-01-01  \n",
       "1      2016-01-01  \n",
       "2      2016-01-01  \n",
       "3      2016-01-01  \n",
       "4      2016-01-01  \n",
       "...           ...  \n",
       "45578  2020-12-31  \n",
       "45579  2020-12-31  \n",
       "45580  2020-12-31  \n",
       "45581  2020-12-31  \n",
       "45582  2020-12-31  \n",
       "\n",
       "[574623 rows x 9 columns]"
      ]
     },
     "execution_count": 67,
     "metadata": {},
     "output_type": "execute_result"
    }
   ],
   "source": [
    "df"
   ]
  },
  {
   "cell_type": "code",
   "execution_count": 68,
   "metadata": {},
   "outputs": [],
   "source": [
    "df.to_csv('df_final.csv', index=False)"
   ]
  }
 ],
 "metadata": {
  "kernelspec": {
   "display_name": "Python 3",
   "language": "python",
   "name": "python3"
  },
  "language_info": {
   "codemirror_mode": {
    "name": "ipython",
    "version": 3
   },
   "file_extension": ".py",
   "mimetype": "text/x-python",
   "name": "python",
   "nbconvert_exporter": "python",
   "pygments_lexer": "ipython3",
   "version": "3.7.9"
  }
 },
 "nbformat": 4,
 "nbformat_minor": 2
}
