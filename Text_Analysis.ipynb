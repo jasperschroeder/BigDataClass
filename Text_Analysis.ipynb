{
 "cells": [
  {
   "cell_type": "markdown",
   "metadata": {},
   "source": [
    "# Text Analysis "
   ]
  },
  {
   "cell_type": "markdown",
   "metadata": {},
   "source": [
    "# Part 1: Data Cleaning\n",
    "Feature Engineering + Text Cleaning. Outputs three datasets"
   ]
  },
  {
   "cell_type": "code",
   "execution_count": 6,
   "metadata": {
    "scrolled": true
   },
   "outputs": [
    {
     "name": "stdout",
     "output_type": "stream",
     "text": [
      "Requirement already satisfied: spacy in /Users/violadarmawan/opt/anaconda3/lib/python3.8/site-packages (3.0.6)\n",
      "Requirement already satisfied: requests<3.0.0,>=2.13.0 in /Users/violadarmawan/opt/anaconda3/lib/python3.8/site-packages (from spacy) (2.24.0)\n",
      "Requirement already satisfied: setuptools in /Users/violadarmawan/opt/anaconda3/lib/python3.8/site-packages (from spacy) (50.3.1.post20201107)\n",
      "Requirement already satisfied: numpy>=1.15.0 in /Users/violadarmawan/opt/anaconda3/lib/python3.8/site-packages (from spacy) (1.19.2)\n",
      "Requirement already satisfied: wasabi<1.1.0,>=0.8.1 in /Users/violadarmawan/opt/anaconda3/lib/python3.8/site-packages (from spacy) (0.8.2)\n",
      "Requirement already satisfied: spacy-legacy<3.1.0,>=3.0.4 in /Users/violadarmawan/opt/anaconda3/lib/python3.8/site-packages (from spacy) (3.0.5)\n",
      "Requirement already satisfied: srsly<3.0.0,>=2.4.1 in /Users/violadarmawan/opt/anaconda3/lib/python3.8/site-packages (from spacy) (2.4.1)\n",
      "Requirement already satisfied: pydantic<1.8.0,>=1.7.1 in /Users/violadarmawan/opt/anaconda3/lib/python3.8/site-packages (from spacy) (1.7.4)\n",
      "Requirement already satisfied: pathy>=0.3.5 in /Users/violadarmawan/opt/anaconda3/lib/python3.8/site-packages (from spacy) (0.5.2)\n",
      "Requirement already satisfied: preshed<3.1.0,>=3.0.2 in /Users/violadarmawan/opt/anaconda3/lib/python3.8/site-packages (from spacy) (3.0.5)\n",
      "Requirement already satisfied: tqdm<5.0.0,>=4.38.0 in /Users/violadarmawan/opt/anaconda3/lib/python3.8/site-packages (from spacy) (4.50.2)\n",
      "Requirement already satisfied: cymem<2.1.0,>=2.0.2 in /Users/violadarmawan/opt/anaconda3/lib/python3.8/site-packages (from spacy) (2.0.5)\n",
      "Requirement already satisfied: catalogue<2.1.0,>=2.0.3 in /Users/violadarmawan/opt/anaconda3/lib/python3.8/site-packages (from spacy) (2.0.4)\n",
      "Requirement already satisfied: packaging>=20.0 in /Users/violadarmawan/opt/anaconda3/lib/python3.8/site-packages (from spacy) (20.4)\n",
      "Requirement already satisfied: thinc<8.1.0,>=8.0.3 in /Users/violadarmawan/opt/anaconda3/lib/python3.8/site-packages (from spacy) (8.0.3)\n",
      "Requirement already satisfied: blis<0.8.0,>=0.4.0 in /Users/violadarmawan/opt/anaconda3/lib/python3.8/site-packages (from spacy) (0.7.4)\n",
      "Requirement already satisfied: jinja2 in /Users/violadarmawan/opt/anaconda3/lib/python3.8/site-packages (from spacy) (2.11.2)\n",
      "Requirement already satisfied: murmurhash<1.1.0,>=0.28.0 in /Users/violadarmawan/opt/anaconda3/lib/python3.8/site-packages (from spacy) (1.0.5)\n",
      "Requirement already satisfied: typer<0.4.0,>=0.3.0 in /Users/violadarmawan/opt/anaconda3/lib/python3.8/site-packages (from spacy) (0.3.2)\n",
      "Requirement already satisfied: idna<3,>=2.5 in /Users/violadarmawan/opt/anaconda3/lib/python3.8/site-packages (from requests<3.0.0,>=2.13.0->spacy) (2.10)\n",
      "Requirement already satisfied: certifi>=2017.4.17 in /Users/violadarmawan/opt/anaconda3/lib/python3.8/site-packages (from requests<3.0.0,>=2.13.0->spacy) (2020.6.20)\n",
      "Requirement already satisfied: chardet<4,>=3.0.2 in /Users/violadarmawan/opt/anaconda3/lib/python3.8/site-packages (from requests<3.0.0,>=2.13.0->spacy) (3.0.4)\n",
      "Requirement already satisfied: urllib3!=1.25.0,!=1.25.1,<1.26,>=1.21.1 in /Users/violadarmawan/opt/anaconda3/lib/python3.8/site-packages (from requests<3.0.0,>=2.13.0->spacy) (1.25.11)\n",
      "Requirement already satisfied: smart-open<4.0.0,>=2.2.0 in /Users/violadarmawan/opt/anaconda3/lib/python3.8/site-packages (from pathy>=0.3.5->spacy) (3.0.0)\n",
      "Requirement already satisfied: pyparsing>=2.0.2 in /Users/violadarmawan/opt/anaconda3/lib/python3.8/site-packages (from packaging>=20.0->spacy) (2.4.7)\n",
      "Requirement already satisfied: six in /Users/violadarmawan/opt/anaconda3/lib/python3.8/site-packages (from packaging>=20.0->spacy) (1.15.0)\n",
      "Requirement already satisfied: MarkupSafe>=0.23 in /Users/violadarmawan/opt/anaconda3/lib/python3.8/site-packages (from jinja2->spacy) (1.1.1)\n",
      "Requirement already satisfied: click<7.2.0,>=7.1.1 in /Users/violadarmawan/opt/anaconda3/lib/python3.8/site-packages (from typer<0.4.0,>=0.3.0->spacy) (7.1.2)\n",
      "Note: you may need to restart the kernel to use updated packages.\n",
      "Requirement already satisfied: pdtext in /Users/violadarmawan/opt/anaconda3/lib/python3.8/site-packages (0.2.0)\n",
      "Note: you may need to restart the kernel to use updated packages.\n",
      "Collecting readability\n",
      "  Downloading readability-0.3.1.tar.gz (34 kB)\n",
      "Building wheels for collected packages: readability\n",
      "  Building wheel for readability (setup.py) ... \u001b[?25ldone\n",
      "\u001b[?25h  Created wheel for readability: filename=readability-0.3.1-py3-none-any.whl size=35460 sha256=8be0698293419489b048f6b9f09ebce074878ccc256ba0503ac88cabede9b0fe\n",
      "  Stored in directory: /Users/violadarmawan/Library/Caches/pip/wheels/4e/7c/09/fd4dab2933175bd6e6f0fe30f2f1abf3be749c6f68b8c0fa46\n",
      "Successfully built readability\n",
      "Installing collected packages: readability\n",
      "Successfully installed readability-0.3.1\n",
      "Note: you may need to restart the kernel to use updated packages.\n"
     ]
    }
   ],
   "source": [
    "%pip install spacy\n",
    "%pip install pdtext\n",
    "%pip install readability"
   ]
  },
  {
   "cell_type": "code",
   "execution_count": 7,
   "metadata": {},
   "outputs": [
    {
     "name": "stderr",
     "output_type": "stream",
     "text": [
      "[nltk_data] Downloading package punkt to\n",
      "[nltk_data]     /Users/violadarmawan/nltk_data...\n",
      "[nltk_data]   Unzipping tokenizers/punkt.zip.\n"
     ]
    }
   ],
   "source": [
    "# Step 1: Setup\n",
    "# import libraries\n",
    "import pandas as pd\n",
    "import numpy as np\n",
    "import string\n",
    "import spacy.cli\n",
    "import matplotlib.pyplot as plt\n",
    "import pdtext\n",
    "import readability\n",
    "from pdtext.tf import word_count\n",
    "import nltk\n",
    "from nltk.stem.snowball import SnowballStemmer\n",
    "nltk.download('punkt')\n",
    "from nltk.tokenize import sent_tokenize\n",
    "from nltk import word_tokenize\n",
    "from sklearn.feature_extraction import text\n",
    "from sklearn.feature_extraction.text import CountVectorizer\n",
    "from sklearn.decomposition import LatentDirichletAllocation\n",
    "from joblib import dump, load"
   ]
  },
  {
   "cell_type": "code",
   "execution_count": 8,
   "metadata": {},
   "outputs": [],
   "source": [
    "# Step 2: Load dataset\n",
    "try:\n",
    "    df = pd.read_csv('df_final.csv')\n",
    "except:\n",
    "    import zipfile\n",
    "    with zipfile.ZipFile('df_final.zip', 'r') as zip_ref:\n",
    "        zip_ref.extractall('')\n",
    "    df = pd.read_csv('df_final.csv')"
   ]
  },
  {
   "cell_type": "code",
   "execution_count": 10,
   "metadata": {},
   "outputs": [],
   "source": [
    "# Step 3: Remove missing text and clean text for LDA\n",
    "# much of the text is missing; thus, we keep only the data with text\n",
    "missing = (df[\"text\"].isnull()) | ((df[\"text\"] == '[deleted]')) | ((df[\"text\"] == '[removed]'))\n",
    "df = df.loc[~missing]\n",
    "\n",
    "##############################\n",
    "# clean the text in df for LDA\n",
    "##############################\n",
    "# stemming\n",
    "eng_stemmer = SnowballStemmer(\"english\")\n",
    "\n",
    "def stem_sentence(sentence):\n",
    "    new_sentence = ''\n",
    "    for word in word_tokenize(sentence):\n",
    "        new_sentence = new_sentence + ' ' + eng_stemmer.stem(word)\n",
    "    return new_sentence.strip()\n",
    "\n",
    "def clean_text(s, stem = True):\n",
    "    # lowercase\n",
    "    s = s.lower()\n",
    "    # remove numbers: https://stackoverflow.com/questions/12851791/removing-numbers-from-string\n",
    "    s = ''.join([i for i in s if not i.isdigit()])\n",
    "    # remove punctuation:\n",
    "    s = s.translate(str.maketrans('', '', string.punctuation))\n",
    "    # stem\n",
    "    if stem:\n",
    "        s = stem_sentence(s)\n",
    "    return(s)\n",
    "\n",
    "# get clean text from which to extract topics\n",
    "clean_text_df = df['text'].apply(clean_text)\n",
    "\n",
    "clean_text_df = pd.DataFrame(clean_text_df, index=df.index)"
   ]
  },
  {
   "cell_type": "code",
   "execution_count": 11,
   "metadata": {},
   "outputs": [],
   "source": [
    "# Quick check\n",
    "clean_text_df.shape[0] == df.shape[0]"
   ]
  },
  {
   "cell_type": "code",
   "execution_count": 14,
   "metadata": {},
   "outputs": [],
   "source": [
    "# Step 4: Export clean_text_df to csv\n",
    "#clean_text_df.to_csv('nlp_data/clean_text_df.csv', index=True)\n",
    "\n",
    "# In case analysis has been done already: \n",
    "clean_text_df = pd.read_csv('nlp_data/clean_text_df.csv', index_col=0)"
   ]
  },
  {
   "cell_type": "code",
   "execution_count": 15,
   "metadata": {},
   "outputs": [
    {
     "data": {
      "text/html": [
       "<div>\n",
       "<style scoped>\n",
       "    .dataframe tbody tr th:only-of-type {\n",
       "        vertical-align: middle;\n",
       "    }\n",
       "\n",
       "    .dataframe tbody tr th {\n",
       "        vertical-align: top;\n",
       "    }\n",
       "\n",
       "    .dataframe thead th {\n",
       "        text-align: right;\n",
       "    }\n",
       "</style>\n",
       "<table border=\"1\" class=\"dataframe\">\n",
       "  <thead>\n",
       "    <tr style=\"text-align: right;\">\n",
       "      <th></th>\n",
       "      <th>text</th>\n",
       "    </tr>\n",
       "  </thead>\n",
       "  <tbody>\n",
       "    <tr>\n",
       "      <th>3</th>\n",
       "      <td>i rememb mine in but quit becaus it was onli b...</td>\n",
       "    </tr>\n",
       "    <tr>\n",
       "      <th>6</th>\n",
       "      <td>pool control of the hashrat a hand control the...</td>\n",
       "    </tr>\n",
       "    <tr>\n",
       "      <th>8</th>\n",
       "      <td>what do the peopl think is go to happen when c...</td>\n",
       "    </tr>\n",
       "    <tr>\n",
       "      <th>11</th>\n",
       "      <td>with all the talk that increas blocksiz would ...</td>\n",
       "    </tr>\n",
       "    <tr>\n",
       "      <th>21</th>\n",
       "      <td>status of the bitcoin network as of friday jan...</td>\n",
       "    </tr>\n",
       "    <tr>\n",
       "      <th>...</th>\n",
       "      <td>...</td>\n",
       "    </tr>\n",
       "    <tr>\n",
       "      <th>574609</th>\n",
       "      <td>that what my friend say i wasnt sure how to re...</td>\n",
       "    </tr>\n",
       "    <tr>\n",
       "      <th>574614</th>\n",
       "      <td>may all your wallet quadrupl in valu</td>\n",
       "    </tr>\n",
       "    <tr>\n",
       "      <th>574616</th>\n",
       "      <td>the emot decis would have been buy more it mig...</td>\n",
       "    </tr>\n",
       "    <tr>\n",
       "      <th>574617</th>\n",
       "      <td>it harder than peopl on twitter make it out to...</td>\n",
       "    </tr>\n",
       "    <tr>\n",
       "      <th>574619</th>\n",
       "      <td>so i ’ m actual not a nb at all i ’ m hold a s...</td>\n",
       "    </tr>\n",
       "  </tbody>\n",
       "</table>\n",
       "<p>177277 rows × 1 columns</p>\n",
       "</div>"
      ],
      "text/plain": [
       "                                                     text\n",
       "3       i rememb mine in but quit becaus it was onli b...\n",
       "6       pool control of the hashrat a hand control the...\n",
       "8       what do the peopl think is go to happen when c...\n",
       "11      with all the talk that increas blocksiz would ...\n",
       "21      status of the bitcoin network as of friday jan...\n",
       "...                                                   ...\n",
       "574609  that what my friend say i wasnt sure how to re...\n",
       "574614               may all your wallet quadrupl in valu\n",
       "574616  the emot decis would have been buy more it mig...\n",
       "574617  it harder than peopl on twitter make it out to...\n",
       "574619  so i ’ m actual not a nb at all i ’ m hold a s...\n",
       "\n",
       "[177277 rows x 1 columns]"
      ]
     },
     "execution_count": 15,
     "metadata": {},
     "output_type": "execute_result"
    }
   ],
   "source": [
    "clean_text_df"
   ]
  },
  {
   "cell_type": "code",
   "execution_count": 19,
   "metadata": {},
   "outputs": [],
   "source": [
    "# Step 5: Sentiment\n",
    "# For background/more info, check out: \n",
    "# https://github.com/cjhutto/vaderSentiment\n",
    "from vaderSentiment.vaderSentiment import SentimentIntensityAnalyzer\n",
    "\n",
    "analyzer = SentimentIntensityAnalyzer()\n",
    "fn_analyzer = lambda x: analyzer.polarity_scores(x)['compound']\n",
    "\n",
    "# # example for paper\n",
    "# analyzer.polarity_scores(example_text)['compound'] # 0.7579\n",
    "\n",
    "# warning --slow\n",
    "sentiment = df['text'].apply(fn_analyzer)\n",
    "\n",
    "sentiment.head()\n",
    "\n",
    "# export sentiment\n",
    "sentiment.to_csv('nlp_data/sentiment.csv', index=True)\n",
    "\n",
    "# Or, in case analysis is already conducted: \n",
    "sentiment = pd.read_csv('nlp_data/sentiment.csv', index_col = 0)"
   ]
  },
  {
   "cell_type": "code",
   "execution_count": 22,
   "metadata": {},
   "outputs": [],
   "source": [
    "# Step 6: Feature Engineering\n",
    "# features we can get from the readability package\n",
    "features = ['dale_chall', 'characters_per_word', 'syll_per_word', 'words_per_sentence', 'sentences_per_paragraph',\n",
    "            'type_token_ratio', 'characters', 'syllables',\n",
    "            'words', 'wordtypes', 'sentences', 'paragraphs',\n",
    "            'long_words', 'complex_words', 'complex_words_dc',\n",
    "            'tobeverb', 'auxverb', 'conjunction', 'pronoun',\n",
    "            'preposition', 'nominalization']\n",
    "\n",
    "# initiate empty features dataframe\n",
    "feature_df = pd.DataFrame(np.nan, index = range(len(df)),\n",
    "                          columns=features)\n",
    "\n",
    "# function that outputs a row of features\n",
    "def get_features(text, idx):\n",
    "    results = readability.getmeasures(text, lang='en')\n",
    "    DaleChall = pd.DataFrame(results['readability grades']['DaleChallIndex'],\n",
    "                             columns = ['dale_chall'],\n",
    "                             index = [idx])\n",
    "    sentence_df = pd.DataFrame(results['sentence info'],\n",
    "                               columns = results['sentence info'].keys(),\n",
    "                               index = [idx])\n",
    "    word_df = pd.DataFrame(results['word usage'],\n",
    "                               columns = results['word usage'].keys(),\n",
    "                               index = [idx])\n",
    "    op = pd.concat([DaleChall, sentence_df, word_df], axis=1)\n",
    "    return(op)\n",
    "\n",
    "# # example\n",
    "# get_features(example_text, idx=0)\n",
    "\n",
    "# fills the feature dataframe warning --slow\n",
    "for i in range(len(df)):\n",
    "    try:\n",
    "        op = get_features(df['text'].iloc[i], idx=i)\n",
    "    except:\n",
    "        op = pd.DataFrame(np.nan, index = [i],columns=features)\n",
    "    feature_df.append(op)\n",
    "\n",
    "# add the index and id\n",
    "# we need this to join the dataframes later on\n",
    "\n",
    "feature_df.index = df.index\n",
    "feature_df['id'] = df['id']\n",
    "\n",
    "# export feature_df as csv\n",
    "feature_df.to_csv('nlp_data/feature_df.csv', index=True)\n",
    "\n",
    "# Or, if analysis is already done:\n",
    "feature_df = pd.read_csv('nlp_data/feature_df.csv', index_col=0)"
   ]
  },
  {
   "cell_type": "markdown",
   "metadata": {},
   "source": [
    "# Part 2: LDA"
   ]
  },
  {
   "cell_type": "code",
   "execution_count": 25,
   "metadata": {},
   "outputs": [],
   "source": [
    "# Step 1: Read in file\n",
    "df = pd.read_csv('nlp_data/clean_text_df.csv', index_col = 0)\n",
    "\n",
    "# after cleaning some text is nan - was originally emojis perhaps\n",
    "missing = (df[\"text\"].isnull()) | ((df[\"text\"] == '[deleted]')) | ((df[\"text\"] == '[removed]'))\n",
    "df = df.loc[~missing]\n"
   ]
  },
  {
   "cell_type": "code",
   "execution_count": 27,
   "metadata": {},
   "outputs": [
    {
     "name": "stdout",
     "output_type": "stream",
     "text": [
      "['grand', 'old', 'flag', 'highfli', 'flag', 'forev', 'peac', 'wave']\n"
     ]
    }
   ],
   "source": [
    "# Step 2: Define stop words, and tokenize/vectorize\n",
    "# stop words: english + bitcoin related + things we have found after cleaning\n",
    "my_stop_words = text.ENGLISH_STOP_WORDS.union([\"https\", \"www\", \"com\", \"bitcoin\", \"btc\", \"bitcoins\",\n",
    "                                              \"just\",\"like\", \"wallet\", \"btc\", \"blockchain\",\n",
    "                                               \"crypto\", \"coinbase\", \"amp\",\n",
    "                                               \"im\", \"iv\", \"id\", \"ive\", \"ampxb\"])\n",
    "\n",
    "# example for paper\n",
    "from nltk.corpus import stopwords\n",
    "from nltk.tokenize import word_tokenize\n",
    "\n",
    "text_tokens = word_tokenize('your a grand old flag your a highfli flag and forev in peac may you wave')\n",
    "tokens_without_sw = [word for word in text_tokens if not word in my_stop_words]\n",
    "print(tokens_without_sw)\n",
    "\n",
    "# get the most common words\n",
    "vectorizer = CountVectorizer(lowercase=True,\n",
    "                             max_df = 0.3,\n",
    "                             stop_words=my_stop_words,\n",
    "                             min_df=0.025)\n",
    "\n",
    "# fit the CountVectorizer to the clean text\n",
    "vectorizer.fit(df['text'])\n",
    "\n",
    "# get the vocabulary of the text\n",
    "vocab = vectorizer.get_feature_names()\n",
    "len(vocab) # 241\n",
    "# save this for 02-lda-topics.py\n",
    "dump(vocab,'vocab.joblib')\n",
    "\n",
    "# term frequency\n",
    "tf = vectorizer.transform(df['text'])"
   ]
  },
  {
   "cell_type": "code",
   "execution_count": 29,
   "metadata": {},
   "outputs": [],
   "source": [
    "# Step 3: Compute LDA Models\n",
    "for cp in [3, 5, 8, 10, 15, 20]:\n",
    "    # LDA topic model\n",
    "    lda_model = LatentDirichletAllocation(n_components=cp,\n",
    "                                          max_iter=10,\n",
    "                                          evaluate_every=1,\n",
    "                                          random_state=420,\n",
    "                                          verbose=1)\n",
    "    # fit\n",
    "    lda_model.fit_transform(tf)\n",
    "\n",
    "    # Log Likelihood: Higher the better\n",
    "    #print(\"Log Likelihood: \", lda_model.score(tf))\n",
    "    # Log Likelihood:  -26461197.1741212\n",
    "\n",
    "    # Perplexity: Lower the better. Perplexity = exp(-1. * log-likelihood per word)\n",
    "    #print(\"Perplexity: \", lda_model.perplexity(tf))\n",
    "    # Perplexity:  396.69211197749775\n",
    "\n",
    "    fname = 'lda-models/2021-13-mai-lda-model-stemmed-ncomp-' + str(cp) + '.joblib'\n",
    "    dump(lda_model,fname)"
   ]
  },
  {
   "cell_type": "code",
   "execution_count": 30,
   "metadata": {},
   "outputs": [],
   "source": [
    "# Step 4: Perplexity of LDA Models\n",
    "# we know that perplexity decreases with the number of topics\n",
    "# thus we use a rule-of-thumb for unsupervised learning: \"elbow rule\"\n",
    "\n",
    "lst_perplexity = []\n",
    "lst_loglik = []\n",
    "\n",
    "\n",
    "# warning -- slow\n",
    "for cp in [3, 5, 8, 10, 15, 20]:\n",
    "    fname = '2021-13-mai-lda-model-stemmed-ncomp-' + str(cp) + '.joblib'\n",
    "    lda_model = load(fname)\n",
    "    lst_loglik.append(lda_model.score(tf))\n",
    "    lst_perplexity.append(lda_model.perplexity(tf))\n",
    "    print(lst_perplexity)"
   ]
  },
  {
   "cell_type": "code",
   "execution_count": 31,
   "metadata": {},
   "outputs": [],
   "source": [
    "# Step 5: Plot Number of components vs. perplexity\n",
    "%matplotlib inline\n",
    "\n",
    "plt.plot([3, 5, 8, 10, 15, 20],\n",
    "         lst_perplexity,\n",
    "         'r-o')\n",
    "plt.xlabel('Number of Topics')\n",
    "plt.ylabel('Perplexity')\n",
    "plt.title('LDA Model Perplexity by Number of Topics')\n",
    "#plt.show()\n",
    "plt.savefig('plots/2021-13-mai-perplexity-plot.png')"
   ]
  },
  {
   "cell_type": "code",
   "execution_count": 32,
   "metadata": {},
   "outputs": [],
   "source": [
    "# plot the number of compotents vs. perplexity, exclude 20\n",
    "plt.plot([3, 5, 8, 10, 15],\n",
    "         lst_perplexity[0:len(lst_perplexity)-1],\n",
    "         'r-o')\n",
    "plt.xlabel('Number of Topics')\n",
    "plt.ylabel('Perplexity')\n",
    "plt.title('LDA Model Perplexity by Number of Topics')\n",
    "#plt.show()\n",
    "plt.savefig('plots/2021-13-mai-perplexity-plot-3to15.png')"
   ]
  },
  {
   "cell_type": "code",
   "execution_count": 33,
   "metadata": {},
   "outputs": [],
   "source": [
    "# Step 6: Plot Number of components vs log-likelihood\n",
    "plt.plot([3, 5, 8, 10, 15, 20],\n",
    "         lst_loglik,\n",
    "         'b-o')\n",
    "plt.xlabel('Number of Topics')\n",
    "plt.ylabel('Log Likelihood')\n",
    "plt.title('LDA Model Log Likelihood by Number of Topics')\n",
    "# plt.show()\n",
    "plt.savefig('plots/2021-13-mai-loglik-plot.png')"
   ]
  },
  {
   "cell_type": "code",
   "execution_count": 34,
   "metadata": {},
   "outputs": [],
   "source": [
    "# plot the number of components vs log-likelihood\n",
    "plt.plot([3, 5, 8, 10, 15],\n",
    "         lst_loglik[0:len(lst_loglik)-1],\n",
    "         'b-o')\n",
    "plt.xlabel('Number of Topics')\n",
    "plt.ylabel('Log Likelihood')\n",
    "plt.title('LDA Model Log Likelihood by Number of Topics')\n",
    "#plt.show()\n",
    "plt.savefig('plots/2021-13-mai-loglik-plot-3to15.png')"
   ]
  },
  {
   "cell_type": "markdown",
   "metadata": {},
   "source": [
    "Select final LDA model\n",
    "\n",
    "The \"elbow\" is at 10 components. However, we can further reduce dimensionality\n",
    "with 5 components, and we find an interpretable output.\n",
    "To make a final decision, we will assess the performance of the topic scores\n",
    "on predictive models.\n"
   ]
  },
  {
   "cell_type": "code",
   "execution_count": 35,
   "metadata": {},
   "outputs": [],
   "source": [
    "# Step 7: Output Dataset with LDA scores\n",
    "for cp in [5, 10]:\n",
    "    fname = 'lda-models/2021-13-mai-lda-model-stemmed-ncomp-' + str(cp) + '.joblib'\n",
    "    lda_model = load(fname)\n",
    "\n",
    "    thread_topics = lda_model.transform(tf)\n",
    "    # thread_topics.shape # (177277, 10) good\n",
    "\n",
    "    topic_df = pd.DataFrame(thread_topics)\n",
    "\n",
    "    new_cols = pd.Series(range(cp)).apply(lambda x: 'topic_'+str(x)).tolist()\n",
    "    topic_df.columns = new_cols\n",
    "    # rename the index to be like the original df\n",
    "    topic_df.index = df.index\n",
    "\n",
    "    # concatenate\n",
    "    #df_with_topics = pd.concat([df, topic_df], axis = 1)\n",
    "    #print(df_with_topics.shape) # (177277, 24)\n",
    "\n",
    "    # write as csv\n",
    "    op_fname = 'nlp_data/2021-15-mai-df_topics_' + str(cp) + '.csv'\n",
    "    print(op_fname)\n",
    "    topic_df.to_csv(op_fname, index=True)"
   ]
  },
  {
   "cell_type": "markdown",
   "metadata": {},
   "source": [
    "# Part 3: LDA Topics"
   ]
  },
  {
   "cell_type": "code",
   "execution_count": 36,
   "metadata": {},
   "outputs": [
    {
     "name": "stderr",
     "output_type": "stream",
     "text": [
      "[nltk_data] Downloading package punkt to\n",
      "[nltk_data]     /Users/violadarmawan/nltk_data...\n",
      "[nltk_data]   Package punkt is already up-to-date!\n"
     ]
    }
   ],
   "source": [
    "# Step 1: Import libraries\n",
    "import matplotlib.pyplot as plt\n",
    "import nltk\n",
    "nltk.download('punkt')\n",
    "from joblib import dump, load"
   ]
  },
  {
   "cell_type": "markdown",
   "metadata": {},
   "source": [
    "For more information, c.f.:\n",
    "https://scikit-learn.org/stable/auto_examples/applications/plot_topics_extraction_with_nmf_lda.html#sphx-glr-auto-examples-applications-plot-topics-extraction-with-nmf-lda-py"
   ]
  },
  {
   "cell_type": "code",
   "execution_count": 37,
   "metadata": {},
   "outputs": [],
   "source": [
    "# Step 2: Plot the top Words and save file\n",
    "def plot_top_words(model, feature_names, n_top_words, title, fig_fname):\n",
    "    fig, axes = plt.subplots(1, 5, figsize=(30, 12), sharex=True)\n",
    "    axes = axes.flatten()\n",
    "    for topic_idx, topic in enumerate(model.components_):\n",
    "        top_features_ind = topic.argsort()[:-n_top_words - 1:-1]\n",
    "        top_features = [feature_names[i] for i in top_features_ind]\n",
    "        weights = topic[top_features_ind]\n",
    "\n",
    "        ax = axes[topic_idx]\n",
    "        ax.barh(top_features, weights, height=0.7)\n",
    "        ax.set_title(f'Topic {topic_idx +1}',\n",
    "                     fontdict={'fontsize': 30})\n",
    "        ax.invert_yaxis()\n",
    "        ax.tick_params(axis='both', which='major', labelsize=20)\n",
    "        for i in 'top right left'.split():\n",
    "            ax.spines[i].set_visible(False)\n",
    "        fig.suptitle(title, fontsize=40)\n",
    "\n",
    "    plt.subplots_adjust(top=0.90, bottom=0.05, wspace=0.90, hspace=0.5)\n",
    "    #plt.savefig('plots/2021-13-mai-topics-in-lda-5-cp.png')\n",
    "    plt.savefig(fig_fname)\n",
    "    #plt.show()"
   ]
  },
  {
   "cell_type": "code",
   "execution_count": 38,
   "metadata": {},
   "outputs": [],
   "source": [
    "# load the vocabulary we got from 01-thread-info.py\n",
    "vocab = load('vocab.joblib')"
   ]
  },
  {
   "cell_type": "code",
   "execution_count": 39,
   "metadata": {},
   "outputs": [],
   "source": [
    "# Step 3: Plot for LDA model with 5 and 10 topics\n",
    "# plot for LDA model with 5 and 10 topics\n",
    "for cp in [5,10]:\n",
    "    # load the LDA model\n",
    "    fname = 'lda-models/2021-13-mai-lda-model-stemmed-ncomp-' + str(cp) + '.joblib'\n",
    "    lda_model = load(fname)\n",
    "\n",
    "    plot_top_words(lda_model,\n",
    "                   feature_names=vocab,\n",
    "                   n_top_words=10,\n",
    "                   title = 'Topics in LDA model',\n",
    "                   fig_fname= 'plots/2021-13-mai-topics-in-lda-' + str(cp) +'-cp.png')\n"
   ]
  },
  {
   "cell_type": "markdown",
   "metadata": {},
   "source": [
    "# Part 4: t-SNE representation"
   ]
  },
  {
   "cell_type": "code",
   "execution_count": 45,
   "metadata": {},
   "outputs": [
    {
     "name": "stdout",
     "output_type": "stream",
     "text": [
      "Requirement already satisfied: geckodriver-autoinstaller in /Users/violadarmawan/opt/anaconda3/lib/python3.8/site-packages (0.1.0)\n",
      "Note: you may need to restart the kernel to use updated packages.\n",
      "Requirement already satisfied: selenium in /Users/violadarmawan/opt/anaconda3/lib/python3.8/site-packages (3.141.0)\n",
      "Requirement already satisfied: urllib3 in /Users/violadarmawan/opt/anaconda3/lib/python3.8/site-packages (from selenium) (1.25.11)\n",
      "Note: you may need to restart the kernel to use updated packages.\n"
     ]
    }
   ],
   "source": [
    "# Step 1: Install necessary modules\n",
    "# Requires Firefox\n",
    "%pip install geckodriver-autoinstaller\n",
    "%pip install selenium\n",
    "from selenium import webdriver\n",
    "import geckodriver_autoinstaller\n",
    "geckodriver_autoinstaller.install();\n",
    "\n",
    "# Source: https://pypi.org/project/geckodriver-autoinstaller/"
   ]
  },
  {
   "cell_type": "code",
   "execution_count": 46,
   "metadata": {},
   "outputs": [],
   "source": [
    "# Step 2: Import necessary modules\n",
    "import pandas as pd\n",
    "import numpy as np\n",
    "from sklearn.preprocessing import StandardScaler\n",
    "from sklearn.manifold import TSNE\n",
    "from bokeh.plotting import figure, output_file, show\n",
    "import matplotlib.colors as mcolors\n",
    "from bokeh.models import Label\n",
    "from bokeh.io import export_png"
   ]
  },
  {
   "cell_type": "code",
   "execution_count": 49,
   "metadata": {},
   "outputs": [
    {
     "name": "stdout",
     "output_type": "stream",
     "text": [
      "[t-SNE] Computing 91 nearest neighbors...\n",
      "[t-SNE] Indexed 177277 samples in 0.387s...\n",
      "[t-SNE] Computed neighbors for 177277 samples in 13.103s...\n",
      "[t-SNE] Computed conditional probabilities for sample 1000 / 177277\n",
      "[t-SNE] Computed conditional probabilities for sample 2000 / 177277\n",
      "[t-SNE] Computed conditional probabilities for sample 3000 / 177277\n",
      "[t-SNE] Computed conditional probabilities for sample 4000 / 177277\n",
      "[t-SNE] Computed conditional probabilities for sample 5000 / 177277\n",
      "[t-SNE] Computed conditional probabilities for sample 6000 / 177277\n",
      "[t-SNE] Computed conditional probabilities for sample 7000 / 177277\n",
      "[t-SNE] Computed conditional probabilities for sample 8000 / 177277\n",
      "[t-SNE] Computed conditional probabilities for sample 9000 / 177277\n",
      "[t-SNE] Computed conditional probabilities for sample 10000 / 177277\n",
      "[t-SNE] Computed conditional probabilities for sample 11000 / 177277\n",
      "[t-SNE] Computed conditional probabilities for sample 12000 / 177277\n",
      "[t-SNE] Computed conditional probabilities for sample 13000 / 177277\n",
      "[t-SNE] Computed conditional probabilities for sample 14000 / 177277\n",
      "[t-SNE] Computed conditional probabilities for sample 15000 / 177277\n",
      "[t-SNE] Computed conditional probabilities for sample 16000 / 177277\n",
      "[t-SNE] Computed conditional probabilities for sample 17000 / 177277\n",
      "[t-SNE] Computed conditional probabilities for sample 18000 / 177277\n",
      "[t-SNE] Computed conditional probabilities for sample 19000 / 177277\n",
      "[t-SNE] Computed conditional probabilities for sample 20000 / 177277\n",
      "[t-SNE] Computed conditional probabilities for sample 21000 / 177277\n",
      "[t-SNE] Computed conditional probabilities for sample 22000 / 177277\n",
      "[t-SNE] Computed conditional probabilities for sample 23000 / 177277\n",
      "[t-SNE] Computed conditional probabilities for sample 24000 / 177277\n",
      "[t-SNE] Computed conditional probabilities for sample 25000 / 177277\n",
      "[t-SNE] Computed conditional probabilities for sample 26000 / 177277\n",
      "[t-SNE] Computed conditional probabilities for sample 27000 / 177277\n",
      "[t-SNE] Computed conditional probabilities for sample 28000 / 177277\n",
      "[t-SNE] Computed conditional probabilities for sample 29000 / 177277\n",
      "[t-SNE] Computed conditional probabilities for sample 30000 / 177277\n",
      "[t-SNE] Computed conditional probabilities for sample 31000 / 177277\n",
      "[t-SNE] Computed conditional probabilities for sample 32000 / 177277\n",
      "[t-SNE] Computed conditional probabilities for sample 33000 / 177277\n",
      "[t-SNE] Computed conditional probabilities for sample 34000 / 177277\n",
      "[t-SNE] Computed conditional probabilities for sample 35000 / 177277\n",
      "[t-SNE] Computed conditional probabilities for sample 36000 / 177277\n",
      "[t-SNE] Computed conditional probabilities for sample 37000 / 177277\n",
      "[t-SNE] Computed conditional probabilities for sample 38000 / 177277\n",
      "[t-SNE] Computed conditional probabilities for sample 39000 / 177277\n",
      "[t-SNE] Computed conditional probabilities for sample 40000 / 177277\n",
      "[t-SNE] Computed conditional probabilities for sample 41000 / 177277\n",
      "[t-SNE] Computed conditional probabilities for sample 42000 / 177277\n",
      "[t-SNE] Computed conditional probabilities for sample 43000 / 177277\n",
      "[t-SNE] Computed conditional probabilities for sample 44000 / 177277\n",
      "[t-SNE] Computed conditional probabilities for sample 45000 / 177277\n",
      "[t-SNE] Computed conditional probabilities for sample 46000 / 177277\n",
      "[t-SNE] Computed conditional probabilities for sample 47000 / 177277\n",
      "[t-SNE] Computed conditional probabilities for sample 48000 / 177277\n",
      "[t-SNE] Computed conditional probabilities for sample 49000 / 177277\n",
      "[t-SNE] Computed conditional probabilities for sample 50000 / 177277\n",
      "[t-SNE] Computed conditional probabilities for sample 51000 / 177277\n",
      "[t-SNE] Computed conditional probabilities for sample 52000 / 177277\n",
      "[t-SNE] Computed conditional probabilities for sample 53000 / 177277\n",
      "[t-SNE] Computed conditional probabilities for sample 54000 / 177277\n",
      "[t-SNE] Computed conditional probabilities for sample 55000 / 177277\n",
      "[t-SNE] Computed conditional probabilities for sample 56000 / 177277\n",
      "[t-SNE] Computed conditional probabilities for sample 57000 / 177277\n",
      "[t-SNE] Computed conditional probabilities for sample 58000 / 177277\n",
      "[t-SNE] Computed conditional probabilities for sample 59000 / 177277\n",
      "[t-SNE] Computed conditional probabilities for sample 60000 / 177277\n",
      "[t-SNE] Computed conditional probabilities for sample 61000 / 177277\n",
      "[t-SNE] Computed conditional probabilities for sample 62000 / 177277\n",
      "[t-SNE] Computed conditional probabilities for sample 63000 / 177277\n",
      "[t-SNE] Computed conditional probabilities for sample 64000 / 177277\n",
      "[t-SNE] Computed conditional probabilities for sample 65000 / 177277\n",
      "[t-SNE] Computed conditional probabilities for sample 66000 / 177277\n",
      "[t-SNE] Computed conditional probabilities for sample 67000 / 177277\n",
      "[t-SNE] Computed conditional probabilities for sample 68000 / 177277\n",
      "[t-SNE] Computed conditional probabilities for sample 69000 / 177277\n",
      "[t-SNE] Computed conditional probabilities for sample 70000 / 177277\n",
      "[t-SNE] Computed conditional probabilities for sample 71000 / 177277\n",
      "[t-SNE] Computed conditional probabilities for sample 72000 / 177277\n",
      "[t-SNE] Computed conditional probabilities for sample 73000 / 177277\n",
      "[t-SNE] Computed conditional probabilities for sample 74000 / 177277\n",
      "[t-SNE] Computed conditional probabilities for sample 75000 / 177277\n",
      "[t-SNE] Computed conditional probabilities for sample 76000 / 177277\n",
      "[t-SNE] Computed conditional probabilities for sample 77000 / 177277\n",
      "[t-SNE] Computed conditional probabilities for sample 78000 / 177277\n",
      "[t-SNE] Computed conditional probabilities for sample 79000 / 177277\n",
      "[t-SNE] Computed conditional probabilities for sample 80000 / 177277\n",
      "[t-SNE] Computed conditional probabilities for sample 81000 / 177277\n",
      "[t-SNE] Computed conditional probabilities for sample 82000 / 177277\n",
      "[t-SNE] Computed conditional probabilities for sample 83000 / 177277\n",
      "[t-SNE] Computed conditional probabilities for sample 84000 / 177277\n",
      "[t-SNE] Computed conditional probabilities for sample 85000 / 177277\n",
      "[t-SNE] Computed conditional probabilities for sample 86000 / 177277\n",
      "[t-SNE] Computed conditional probabilities for sample 87000 / 177277\n",
      "[t-SNE] Computed conditional probabilities for sample 88000 / 177277\n",
      "[t-SNE] Computed conditional probabilities for sample 89000 / 177277\n",
      "[t-SNE] Computed conditional probabilities for sample 90000 / 177277\n",
      "[t-SNE] Computed conditional probabilities for sample 91000 / 177277\n",
      "[t-SNE] Computed conditional probabilities for sample 92000 / 177277\n",
      "[t-SNE] Computed conditional probabilities for sample 93000 / 177277\n",
      "[t-SNE] Computed conditional probabilities for sample 94000 / 177277\n",
      "[t-SNE] Computed conditional probabilities for sample 95000 / 177277\n",
      "[t-SNE] Computed conditional probabilities for sample 96000 / 177277\n",
      "[t-SNE] Computed conditional probabilities for sample 97000 / 177277\n",
      "[t-SNE] Computed conditional probabilities for sample 98000 / 177277\n",
      "[t-SNE] Computed conditional probabilities for sample 99000 / 177277\n",
      "[t-SNE] Computed conditional probabilities for sample 100000 / 177277\n",
      "[t-SNE] Computed conditional probabilities for sample 101000 / 177277\n",
      "[t-SNE] Computed conditional probabilities for sample 102000 / 177277\n",
      "[t-SNE] Computed conditional probabilities for sample 103000 / 177277\n",
      "[t-SNE] Computed conditional probabilities for sample 104000 / 177277\n",
      "[t-SNE] Computed conditional probabilities for sample 105000 / 177277\n",
      "[t-SNE] Computed conditional probabilities for sample 106000 / 177277\n",
      "[t-SNE] Computed conditional probabilities for sample 107000 / 177277\n",
      "[t-SNE] Computed conditional probabilities for sample 108000 / 177277\n",
      "[t-SNE] Computed conditional probabilities for sample 109000 / 177277\n",
      "[t-SNE] Computed conditional probabilities for sample 110000 / 177277\n",
      "[t-SNE] Computed conditional probabilities for sample 111000 / 177277\n",
      "[t-SNE] Computed conditional probabilities for sample 112000 / 177277\n",
      "[t-SNE] Computed conditional probabilities for sample 113000 / 177277\n",
      "[t-SNE] Computed conditional probabilities for sample 114000 / 177277\n",
      "[t-SNE] Computed conditional probabilities for sample 115000 / 177277\n",
      "[t-SNE] Computed conditional probabilities for sample 116000 / 177277\n",
      "[t-SNE] Computed conditional probabilities for sample 117000 / 177277\n",
      "[t-SNE] Computed conditional probabilities for sample 118000 / 177277\n"
     ]
    },
    {
     "name": "stdout",
     "output_type": "stream",
     "text": [
      "[t-SNE] Computed conditional probabilities for sample 119000 / 177277\n",
      "[t-SNE] Computed conditional probabilities for sample 120000 / 177277\n",
      "[t-SNE] Computed conditional probabilities for sample 121000 / 177277\n",
      "[t-SNE] Computed conditional probabilities for sample 122000 / 177277\n",
      "[t-SNE] Computed conditional probabilities for sample 123000 / 177277\n",
      "[t-SNE] Computed conditional probabilities for sample 124000 / 177277\n",
      "[t-SNE] Computed conditional probabilities for sample 125000 / 177277\n",
      "[t-SNE] Computed conditional probabilities for sample 126000 / 177277\n",
      "[t-SNE] Computed conditional probabilities for sample 127000 / 177277\n",
      "[t-SNE] Computed conditional probabilities for sample 128000 / 177277\n",
      "[t-SNE] Computed conditional probabilities for sample 129000 / 177277\n",
      "[t-SNE] Computed conditional probabilities for sample 130000 / 177277\n",
      "[t-SNE] Computed conditional probabilities for sample 131000 / 177277\n",
      "[t-SNE] Computed conditional probabilities for sample 132000 / 177277\n",
      "[t-SNE] Computed conditional probabilities for sample 133000 / 177277\n",
      "[t-SNE] Computed conditional probabilities for sample 134000 / 177277\n",
      "[t-SNE] Computed conditional probabilities for sample 135000 / 177277\n",
      "[t-SNE] Computed conditional probabilities for sample 136000 / 177277\n",
      "[t-SNE] Computed conditional probabilities for sample 137000 / 177277\n",
      "[t-SNE] Computed conditional probabilities for sample 138000 / 177277\n",
      "[t-SNE] Computed conditional probabilities for sample 139000 / 177277\n",
      "[t-SNE] Computed conditional probabilities for sample 140000 / 177277\n",
      "[t-SNE] Computed conditional probabilities for sample 141000 / 177277\n",
      "[t-SNE] Computed conditional probabilities for sample 142000 / 177277\n",
      "[t-SNE] Computed conditional probabilities for sample 143000 / 177277\n",
      "[t-SNE] Computed conditional probabilities for sample 144000 / 177277\n",
      "[t-SNE] Computed conditional probabilities for sample 145000 / 177277\n",
      "[t-SNE] Computed conditional probabilities for sample 146000 / 177277\n",
      "[t-SNE] Computed conditional probabilities for sample 147000 / 177277\n",
      "[t-SNE] Computed conditional probabilities for sample 148000 / 177277\n",
      "[t-SNE] Computed conditional probabilities for sample 149000 / 177277\n",
      "[t-SNE] Computed conditional probabilities for sample 150000 / 177277\n",
      "[t-SNE] Computed conditional probabilities for sample 151000 / 177277\n",
      "[t-SNE] Computed conditional probabilities for sample 152000 / 177277\n",
      "[t-SNE] Computed conditional probabilities for sample 153000 / 177277\n",
      "[t-SNE] Computed conditional probabilities for sample 154000 / 177277\n",
      "[t-SNE] Computed conditional probabilities for sample 155000 / 177277\n",
      "[t-SNE] Computed conditional probabilities for sample 156000 / 177277\n",
      "[t-SNE] Computed conditional probabilities for sample 157000 / 177277\n",
      "[t-SNE] Computed conditional probabilities for sample 158000 / 177277\n",
      "[t-SNE] Computed conditional probabilities for sample 159000 / 177277\n",
      "[t-SNE] Computed conditional probabilities for sample 160000 / 177277\n",
      "[t-SNE] Computed conditional probabilities for sample 161000 / 177277\n",
      "[t-SNE] Computed conditional probabilities for sample 162000 / 177277\n",
      "[t-SNE] Computed conditional probabilities for sample 163000 / 177277\n",
      "[t-SNE] Computed conditional probabilities for sample 164000 / 177277\n",
      "[t-SNE] Computed conditional probabilities for sample 165000 / 177277\n",
      "[t-SNE] Computed conditional probabilities for sample 166000 / 177277\n",
      "[t-SNE] Computed conditional probabilities for sample 167000 / 177277\n",
      "[t-SNE] Computed conditional probabilities for sample 168000 / 177277\n",
      "[t-SNE] Computed conditional probabilities for sample 169000 / 177277\n",
      "[t-SNE] Computed conditional probabilities for sample 170000 / 177277\n",
      "[t-SNE] Computed conditional probabilities for sample 171000 / 177277\n",
      "[t-SNE] Computed conditional probabilities for sample 172000 / 177277\n",
      "[t-SNE] Computed conditional probabilities for sample 173000 / 177277\n",
      "[t-SNE] Computed conditional probabilities for sample 174000 / 177277\n",
      "[t-SNE] Computed conditional probabilities for sample 175000 / 177277\n",
      "[t-SNE] Computed conditional probabilities for sample 176000 / 177277\n",
      "[t-SNE] Computed conditional probabilities for sample 177000 / 177277\n",
      "[t-SNE] Computed conditional probabilities for sample 177277 / 177277\n",
      "[t-SNE] Mean sigma: 0.000000\n",
      "[t-SNE] KL divergence after 250 iterations with early exaggeration: 95.781036\n",
      "[t-SNE] KL divergence after 1000 iterations: 2.937108\n",
      "[t-SNE] Computing 91 nearest neighbors...\n",
      "[t-SNE] Indexed 177277 samples in 1.116s...\n",
      "[t-SNE] Computed neighbors for 177277 samples in 99.032s...\n",
      "[t-SNE] Computed conditional probabilities for sample 1000 / 177277\n",
      "[t-SNE] Computed conditional probabilities for sample 2000 / 177277\n",
      "[t-SNE] Computed conditional probabilities for sample 3000 / 177277\n",
      "[t-SNE] Computed conditional probabilities for sample 4000 / 177277\n",
      "[t-SNE] Computed conditional probabilities for sample 5000 / 177277\n",
      "[t-SNE] Computed conditional probabilities for sample 6000 / 177277\n",
      "[t-SNE] Computed conditional probabilities for sample 7000 / 177277\n",
      "[t-SNE] Computed conditional probabilities for sample 8000 / 177277\n",
      "[t-SNE] Computed conditional probabilities for sample 9000 / 177277\n",
      "[t-SNE] Computed conditional probabilities for sample 10000 / 177277\n",
      "[t-SNE] Computed conditional probabilities for sample 11000 / 177277\n",
      "[t-SNE] Computed conditional probabilities for sample 12000 / 177277\n",
      "[t-SNE] Computed conditional probabilities for sample 13000 / 177277\n",
      "[t-SNE] Computed conditional probabilities for sample 14000 / 177277\n",
      "[t-SNE] Computed conditional probabilities for sample 15000 / 177277\n",
      "[t-SNE] Computed conditional probabilities for sample 16000 / 177277\n",
      "[t-SNE] Computed conditional probabilities for sample 17000 / 177277\n",
      "[t-SNE] Computed conditional probabilities for sample 18000 / 177277\n",
      "[t-SNE] Computed conditional probabilities for sample 19000 / 177277\n",
      "[t-SNE] Computed conditional probabilities for sample 20000 / 177277\n",
      "[t-SNE] Computed conditional probabilities for sample 21000 / 177277\n",
      "[t-SNE] Computed conditional probabilities for sample 22000 / 177277\n",
      "[t-SNE] Computed conditional probabilities for sample 23000 / 177277\n",
      "[t-SNE] Computed conditional probabilities for sample 24000 / 177277\n",
      "[t-SNE] Computed conditional probabilities for sample 25000 / 177277\n",
      "[t-SNE] Computed conditional probabilities for sample 26000 / 177277\n",
      "[t-SNE] Computed conditional probabilities for sample 27000 / 177277\n",
      "[t-SNE] Computed conditional probabilities for sample 28000 / 177277\n",
      "[t-SNE] Computed conditional probabilities for sample 29000 / 177277\n",
      "[t-SNE] Computed conditional probabilities for sample 30000 / 177277\n",
      "[t-SNE] Computed conditional probabilities for sample 31000 / 177277\n",
      "[t-SNE] Computed conditional probabilities for sample 32000 / 177277\n",
      "[t-SNE] Computed conditional probabilities for sample 33000 / 177277\n",
      "[t-SNE] Computed conditional probabilities for sample 34000 / 177277\n",
      "[t-SNE] Computed conditional probabilities for sample 35000 / 177277\n",
      "[t-SNE] Computed conditional probabilities for sample 36000 / 177277\n",
      "[t-SNE] Computed conditional probabilities for sample 37000 / 177277\n",
      "[t-SNE] Computed conditional probabilities for sample 38000 / 177277\n",
      "[t-SNE] Computed conditional probabilities for sample 39000 / 177277\n",
      "[t-SNE] Computed conditional probabilities for sample 40000 / 177277\n",
      "[t-SNE] Computed conditional probabilities for sample 41000 / 177277\n",
      "[t-SNE] Computed conditional probabilities for sample 42000 / 177277\n",
      "[t-SNE] Computed conditional probabilities for sample 43000 / 177277\n",
      "[t-SNE] Computed conditional probabilities for sample 44000 / 177277\n",
      "[t-SNE] Computed conditional probabilities for sample 45000 / 177277\n",
      "[t-SNE] Computed conditional probabilities for sample 46000 / 177277\n",
      "[t-SNE] Computed conditional probabilities for sample 47000 / 177277\n",
      "[t-SNE] Computed conditional probabilities for sample 48000 / 177277\n",
      "[t-SNE] Computed conditional probabilities for sample 49000 / 177277\n",
      "[t-SNE] Computed conditional probabilities for sample 50000 / 177277\n",
      "[t-SNE] Computed conditional probabilities for sample 51000 / 177277\n",
      "[t-SNE] Computed conditional probabilities for sample 52000 / 177277\n",
      "[t-SNE] Computed conditional probabilities for sample 53000 / 177277\n",
      "[t-SNE] Computed conditional probabilities for sample 54000 / 177277\n",
      "[t-SNE] Computed conditional probabilities for sample 55000 / 177277\n"
     ]
    },
    {
     "name": "stdout",
     "output_type": "stream",
     "text": [
      "[t-SNE] Computed conditional probabilities for sample 56000 / 177277\n",
      "[t-SNE] Computed conditional probabilities for sample 57000 / 177277\n",
      "[t-SNE] Computed conditional probabilities for sample 58000 / 177277\n",
      "[t-SNE] Computed conditional probabilities for sample 59000 / 177277\n",
      "[t-SNE] Computed conditional probabilities for sample 60000 / 177277\n",
      "[t-SNE] Computed conditional probabilities for sample 61000 / 177277\n",
      "[t-SNE] Computed conditional probabilities for sample 62000 / 177277\n",
      "[t-SNE] Computed conditional probabilities for sample 63000 / 177277\n",
      "[t-SNE] Computed conditional probabilities for sample 64000 / 177277\n",
      "[t-SNE] Computed conditional probabilities for sample 65000 / 177277\n",
      "[t-SNE] Computed conditional probabilities for sample 66000 / 177277\n",
      "[t-SNE] Computed conditional probabilities for sample 67000 / 177277\n",
      "[t-SNE] Computed conditional probabilities for sample 68000 / 177277\n",
      "[t-SNE] Computed conditional probabilities for sample 69000 / 177277\n",
      "[t-SNE] Computed conditional probabilities for sample 70000 / 177277\n",
      "[t-SNE] Computed conditional probabilities for sample 71000 / 177277\n",
      "[t-SNE] Computed conditional probabilities for sample 72000 / 177277\n",
      "[t-SNE] Computed conditional probabilities for sample 73000 / 177277\n",
      "[t-SNE] Computed conditional probabilities for sample 74000 / 177277\n",
      "[t-SNE] Computed conditional probabilities for sample 75000 / 177277\n",
      "[t-SNE] Computed conditional probabilities for sample 76000 / 177277\n",
      "[t-SNE] Computed conditional probabilities for sample 77000 / 177277\n",
      "[t-SNE] Computed conditional probabilities for sample 78000 / 177277\n",
      "[t-SNE] Computed conditional probabilities for sample 79000 / 177277\n",
      "[t-SNE] Computed conditional probabilities for sample 80000 / 177277\n",
      "[t-SNE] Computed conditional probabilities for sample 81000 / 177277\n",
      "[t-SNE] Computed conditional probabilities for sample 82000 / 177277\n",
      "[t-SNE] Computed conditional probabilities for sample 83000 / 177277\n",
      "[t-SNE] Computed conditional probabilities for sample 84000 / 177277\n",
      "[t-SNE] Computed conditional probabilities for sample 85000 / 177277\n",
      "[t-SNE] Computed conditional probabilities for sample 86000 / 177277\n",
      "[t-SNE] Computed conditional probabilities for sample 87000 / 177277\n",
      "[t-SNE] Computed conditional probabilities for sample 88000 / 177277\n",
      "[t-SNE] Computed conditional probabilities for sample 89000 / 177277\n",
      "[t-SNE] Computed conditional probabilities for sample 90000 / 177277\n",
      "[t-SNE] Computed conditional probabilities for sample 91000 / 177277\n",
      "[t-SNE] Computed conditional probabilities for sample 92000 / 177277\n",
      "[t-SNE] Computed conditional probabilities for sample 93000 / 177277\n",
      "[t-SNE] Computed conditional probabilities for sample 94000 / 177277\n",
      "[t-SNE] Computed conditional probabilities for sample 95000 / 177277\n",
      "[t-SNE] Computed conditional probabilities for sample 96000 / 177277\n",
      "[t-SNE] Computed conditional probabilities for sample 97000 / 177277\n",
      "[t-SNE] Computed conditional probabilities for sample 98000 / 177277\n",
      "[t-SNE] Computed conditional probabilities for sample 99000 / 177277\n",
      "[t-SNE] Computed conditional probabilities for sample 100000 / 177277\n",
      "[t-SNE] Computed conditional probabilities for sample 101000 / 177277\n",
      "[t-SNE] Computed conditional probabilities for sample 102000 / 177277\n",
      "[t-SNE] Computed conditional probabilities for sample 103000 / 177277\n",
      "[t-SNE] Computed conditional probabilities for sample 104000 / 177277\n",
      "[t-SNE] Computed conditional probabilities for sample 105000 / 177277\n",
      "[t-SNE] Computed conditional probabilities for sample 106000 / 177277\n",
      "[t-SNE] Computed conditional probabilities for sample 107000 / 177277\n",
      "[t-SNE] Computed conditional probabilities for sample 108000 / 177277\n",
      "[t-SNE] Computed conditional probabilities for sample 109000 / 177277\n",
      "[t-SNE] Computed conditional probabilities for sample 110000 / 177277\n",
      "[t-SNE] Computed conditional probabilities for sample 111000 / 177277\n",
      "[t-SNE] Computed conditional probabilities for sample 112000 / 177277\n",
      "[t-SNE] Computed conditional probabilities for sample 113000 / 177277\n",
      "[t-SNE] Computed conditional probabilities for sample 114000 / 177277\n",
      "[t-SNE] Computed conditional probabilities for sample 115000 / 177277\n",
      "[t-SNE] Computed conditional probabilities for sample 116000 / 177277\n",
      "[t-SNE] Computed conditional probabilities for sample 117000 / 177277\n",
      "[t-SNE] Computed conditional probabilities for sample 118000 / 177277\n",
      "[t-SNE] Computed conditional probabilities for sample 119000 / 177277\n",
      "[t-SNE] Computed conditional probabilities for sample 120000 / 177277\n",
      "[t-SNE] Computed conditional probabilities for sample 121000 / 177277\n",
      "[t-SNE] Computed conditional probabilities for sample 122000 / 177277\n",
      "[t-SNE] Computed conditional probabilities for sample 123000 / 177277\n",
      "[t-SNE] Computed conditional probabilities for sample 124000 / 177277\n",
      "[t-SNE] Computed conditional probabilities for sample 125000 / 177277\n",
      "[t-SNE] Computed conditional probabilities for sample 126000 / 177277\n",
      "[t-SNE] Computed conditional probabilities for sample 127000 / 177277\n",
      "[t-SNE] Computed conditional probabilities for sample 128000 / 177277\n",
      "[t-SNE] Computed conditional probabilities for sample 129000 / 177277\n",
      "[t-SNE] Computed conditional probabilities for sample 130000 / 177277\n",
      "[t-SNE] Computed conditional probabilities for sample 131000 / 177277\n",
      "[t-SNE] Computed conditional probabilities for sample 132000 / 177277\n",
      "[t-SNE] Computed conditional probabilities for sample 133000 / 177277\n",
      "[t-SNE] Computed conditional probabilities for sample 134000 / 177277\n",
      "[t-SNE] Computed conditional probabilities for sample 135000 / 177277\n",
      "[t-SNE] Computed conditional probabilities for sample 136000 / 177277\n",
      "[t-SNE] Computed conditional probabilities for sample 137000 / 177277\n",
      "[t-SNE] Computed conditional probabilities for sample 138000 / 177277\n",
      "[t-SNE] Computed conditional probabilities for sample 139000 / 177277\n",
      "[t-SNE] Computed conditional probabilities for sample 140000 / 177277\n",
      "[t-SNE] Computed conditional probabilities for sample 141000 / 177277\n",
      "[t-SNE] Computed conditional probabilities for sample 142000 / 177277\n",
      "[t-SNE] Computed conditional probabilities for sample 143000 / 177277\n",
      "[t-SNE] Computed conditional probabilities for sample 144000 / 177277\n",
      "[t-SNE] Computed conditional probabilities for sample 145000 / 177277\n",
      "[t-SNE] Computed conditional probabilities for sample 146000 / 177277\n",
      "[t-SNE] Computed conditional probabilities for sample 147000 / 177277\n",
      "[t-SNE] Computed conditional probabilities for sample 148000 / 177277\n",
      "[t-SNE] Computed conditional probabilities for sample 149000 / 177277\n",
      "[t-SNE] Computed conditional probabilities for sample 150000 / 177277\n",
      "[t-SNE] Computed conditional probabilities for sample 151000 / 177277\n",
      "[t-SNE] Computed conditional probabilities for sample 152000 / 177277\n",
      "[t-SNE] Computed conditional probabilities for sample 153000 / 177277\n",
      "[t-SNE] Computed conditional probabilities for sample 154000 / 177277\n",
      "[t-SNE] Computed conditional probabilities for sample 155000 / 177277\n",
      "[t-SNE] Computed conditional probabilities for sample 156000 / 177277\n",
      "[t-SNE] Computed conditional probabilities for sample 157000 / 177277\n",
      "[t-SNE] Computed conditional probabilities for sample 158000 / 177277\n",
      "[t-SNE] Computed conditional probabilities for sample 159000 / 177277\n",
      "[t-SNE] Computed conditional probabilities for sample 160000 / 177277\n",
      "[t-SNE] Computed conditional probabilities for sample 161000 / 177277\n",
      "[t-SNE] Computed conditional probabilities for sample 162000 / 177277\n",
      "[t-SNE] Computed conditional probabilities for sample 163000 / 177277\n",
      "[t-SNE] Computed conditional probabilities for sample 164000 / 177277\n",
      "[t-SNE] Computed conditional probabilities for sample 165000 / 177277\n",
      "[t-SNE] Computed conditional probabilities for sample 166000 / 177277\n",
      "[t-SNE] Computed conditional probabilities for sample 167000 / 177277\n",
      "[t-SNE] Computed conditional probabilities for sample 168000 / 177277\n",
      "[t-SNE] Computed conditional probabilities for sample 169000 / 177277\n",
      "[t-SNE] Computed conditional probabilities for sample 170000 / 177277\n",
      "[t-SNE] Computed conditional probabilities for sample 171000 / 177277\n",
      "[t-SNE] Computed conditional probabilities for sample 172000 / 177277\n",
      "[t-SNE] Computed conditional probabilities for sample 173000 / 177277\n",
      "[t-SNE] Computed conditional probabilities for sample 174000 / 177277\n",
      "[t-SNE] Computed conditional probabilities for sample 175000 / 177277\n"
     ]
    },
    {
     "name": "stdout",
     "output_type": "stream",
     "text": [
      "[t-SNE] Computed conditional probabilities for sample 176000 / 177277\n",
      "[t-SNE] Computed conditional probabilities for sample 177000 / 177277\n",
      "[t-SNE] Computed conditional probabilities for sample 177277 / 177277\n",
      "[t-SNE] Mean sigma: 0.000000\n",
      "[t-SNE] KL divergence after 250 iterations with early exaggeration: 100.413429\n",
      "[t-SNE] KL divergence after 1000 iterations: 3.114407\n"
     ]
    }
   ],
   "source": [
    "# Step 3: Perform the t-SNE\n",
    "# Stochastic procedure, so results will change every time the analysis is run. \n",
    "def tSNE_plot(n_topic):\n",
    "    input_fname = 'nlp_data/df_topics_' + str(n_topic) + '.csv'\n",
    "    tsne_df = pd.read_csv(input_fname, index_col = 0)\n",
    "    \n",
    "    keep = pd.Series(range(n_topic)).apply(lambda x: 'topic_'+str(x)).tolist()\n",
    "    tsne_df = tsne_df[keep]\n",
    "   \n",
    "    # scale: best to do this before t-SNE\n",
    "    # scaler = StandardScaler()\n",
    "    # scaled_tsne_df = scaler.fit_transform(tsne_df)\n",
    "    # scaled_tsne_df.shape # 177277, 26 ok good\n",
    "\n",
    "    # get the dominant topic of each document\n",
    "    dominant_topic = tsne_df[['topic_' + str(c) for c in range(n_topic)]].idxmax(axis=1)\n",
    "\n",
    "    # extract the number from dominant topic\n",
    "    topic_num = dominant_topic.apply(lambda x: int(x.split('_')[1]))\n",
    "    topic_num = topic_num.to_numpy()\n",
    "\n",
    "    # tSNE Dimension Reduction -- warning: slow\n",
    "    # source: https://www.machinelearningplus.com/nlp/topic-modeling-visualization-how-to-present-results-lda-models/\n",
    "    tsne_model = TSNE(n_components=2, verbose=1, random_state=0, angle=.99, init='pca')\n",
    "    tsne_lda = tsne_model.fit_transform(tsne_df)\n",
    "\n",
    "    # plot, color by topic number (for now)\n",
    "    n_topics = n_topic\n",
    "    output_fname = 'plots/2021-27-mai-tsne-plot-' + str(n_topic) + '-topics.png'\n",
    "    mycolors = np.array([color for name, color in mcolors.TABLEAU_COLORS.items()])\n",
    "    plot = figure(title=\"t-SNE Clustering, colored by {} LDA Topics\".format(n_topics),\n",
    "          plot_width=900, plot_height=700)\n",
    "    plot.scatter(x=tsne_lda[:,0], y=tsne_lda[:,1], color=mycolors[topic_num])\n",
    "    export_png(plot, filename=output_fname)\n",
    "    return\n",
    "\n",
    "# make the plots\n",
    "tSNE_plot(n_topic=5)\n",
    "tSNE_plot(n_topic=10)"
   ]
  },
  {
   "cell_type": "markdown",
   "metadata": {},
   "source": [
    "# Part 5: Predictive Models"
   ]
  },
  {
   "cell_type": "code",
   "execution_count": 50,
   "metadata": {},
   "outputs": [],
   "source": [
    "# Step 1: Import necessary models\n",
    "import pandas as pd\n",
    "import numpy as np\n",
    "import datetime\n",
    "import math\n",
    "import matplotlib.pyplot as plt\n",
    "import seaborn as sns\n",
    "\n",
    "from sklearn.model_selection import train_test_split\n",
    "from sklearn.linear_model import LogisticRegression\n",
    "from sklearn.decomposition import PCA\n",
    "from sklearn.preprocessing import StandardScaler\n",
    "from sklearn.metrics import classification_report, confusion_matrix, accuracy_score\n",
    "from sklearn.pipeline import Pipeline\n",
    "from sklearn.model_selection import GridSearchCV\n",
    "# idea: can we use information from the threads and topics to predict\n",
    "# # whether the thread was posted when BTC had high volatility?"
   ]
  },
  {
   "cell_type": "code",
   "execution_count": 51,
   "metadata": {},
   "outputs": [],
   "source": [
    "# Step 2: Get the 30-day rolling volatility\n",
    "btc = pd.read_csv('bpi.csv')\n",
    "Day = btc['Date']\n",
    "def str_to_time(elem):\n",
    "    day = datetime.datetime.strptime(elem, '%Y-%m-%d')\n",
    "    return day\n",
    "\n",
    "btc['Date'] = btc['Date'].apply(str_to_time)\n",
    "btc = btc.set_index('Date')\n",
    "\n",
    "ch_btc = [math.nan]\n",
    "ch_btc_pct = [math.nan]\n",
    "for i in range(1, len(btc['BPI'])):\n",
    "    ch_btc.append(btc['BPI'].iloc[i]-btc['BPI'].iloc[i-1])\n",
    "    ch_btc_pct.append((btc['BPI'].iloc[i]/btc['BPI'].iloc[i-1])-1)\n",
    "\n",
    "vola = pd.DataFrame(ch_btc_pct).rolling(30).std()*np.sqrt(30)\n",
    "vola.index = btc.index"
   ]
  },
  {
   "cell_type": "code",
   "execution_count": 52,
   "metadata": {},
   "outputs": [
    {
     "data": {
      "text/plain": [
       "0    1618\n",
       "1     209\n",
       "Name: high, dtype: int64"
      ]
     },
     "execution_count": 52,
     "metadata": {},
     "output_type": "execute_result"
    }
   ],
   "source": [
    "# Step 3: Define high volatility (here defined as > 0.3)\n",
    "vola['high'] = vola.apply(lambda x: (x > 0.3) + 0)\n",
    "vola['high'].value_counts()"
   ]
  },
  {
   "cell_type": "code",
   "execution_count": 53,
   "metadata": {},
   "outputs": [],
   "source": [
    "# Step 4: Get the dataset for classification\n",
    "\n",
    "# ok, now we want to join the topic dataframe with this dataframe on date\n",
    "# give the column 'Day' to vola\n",
    "vola.index = range(len(vola))\n",
    "vola['Day'] = Day\n",
    "vola.columns = ['volatility', 'high', 'Day']\n",
    "\n",
    "# the threads\n",
    "df = pd.read_csv('df_final.csv')\n",
    "# again we remove the null values of df\n",
    "missing = (df[\"text\"].isnull()) | ((df[\"text\"] == '[deleted]')) | ((df[\"text\"] == '[removed]'))\n",
    "df = df.loc[~missing]\n",
    "\n",
    "feature_df = pd.read_csv('nlp_data/feature_df.csv', index_col = 0)\n",
    "sentiment = pd.read_csv('nlp_data/sentiment.csv', index_col = 0)\n",
    "tsne_df = pd.read_csv('nlp_data/df_topics_5.csv', index_col = 0)\n",
    "\n",
    "# select some columns of the tsne_df\n",
    "tsne_df = tsne_df[['id', 'topic_0', 'topic_1', 'topic_2',\n",
    "       'topic_3', 'topic_4']]\n",
    "dominant_topic = tsne_df[['topic_' + str(c) for c in range(5)]].idxmax(axis=1)\n",
    "\n",
    "# add sentiment to the df\n",
    "df['sentiment'] = sentiment\n",
    "\n",
    "# merge\n",
    "full_df_1 = pd.merge(df, feature_df, on='id')\n",
    "full_df = pd.merge(full_df_1, tsne_df, on = 'id')\n",
    "\n",
    "# select the right columns to keep\n",
    "keep = ['Day', 'author', 'comments', 'sentiment', 'dale_chall',\n",
    "       'type_token_ratio', 'characters', 'syllables', 'words', 'wordtypes',\n",
    "       'sentences', 'paragraphs', 'long_words', 'complex_words',\n",
    "       'complex_words_dc', 'tobeverb', 'auxverb', 'conjunction', 'pronoun',\n",
    "       'preposition', 'nominalization', 'topic_0', 'topic_1', 'topic_2',\n",
    "        'topic_3', 'topic_4']\n",
    "\n",
    "full_df = full_df[keep]\n",
    "\n",
    "merged_df = pd.merge(vola, full_df, on = 'Day')\n",
    "\n",
    "# remove everything from 2020 onwards\n",
    "merged_df = merged_df[merged_df['Day'] <'2020-01-01']\n",
    "\n",
    "# remove the days where we have NaN volatility\n",
    "merged_df = merged_df[~np.isnan(merged_df['volatility'])]\n",
    "\n",
    "merged_df.shape # Out[125]: (143991, 28)\n",
    "full_df = merged_df[['comments', 'sentiment',\n",
    "       'dale_chall', 'type_token_ratio', 'characters', 'syllables', 'words',\n",
    "       'wordtypes', 'sentences', 'paragraphs', 'long_words', 'complex_words',\n",
    "       'complex_words_dc', 'tobeverb', 'auxverb', 'conjunction', 'pronoun',\n",
    "       'preposition', 'nominalization', 'topic_0', 'topic_1', 'topic_2',\n",
    "       'topic_3', 'topic_4']]\n"
   ]
  },
  {
   "cell_type": "code",
   "execution_count": 54,
   "metadata": {},
   "outputs": [
    {
     "data": {
      "image/png": "[encoded data removed]",
      "text/plain": [
       "<Figure size 432x288 with 2 Axes>"
      ]
     },
     "metadata": {
      "needs_background": "light"
     },
     "output_type": "display_data"
    }
   ],
   "source": [
    "# Step 5: Correlation Heatmap\n",
    "mask = np.tril(full_df.corr())\n",
    "sns.heatmap(full_df.corr(), annot=False, mask=mask)\n",
    "plt.show()"
   ]
  },
  {
   "cell_type": "code",
   "execution_count": 55,
   "metadata": {},
   "outputs": [
    {
     "name": "stdout",
     "output_type": "stream",
     "text": [
      "[6.61848196e-01 5.95543480e-02 5.35328270e-02 5.16559120e-02\n",
      " 4.78754518e-02 3.49642078e-02 2.15538414e-02 1.69481229e-02\n",
      " 1.38906609e-02 1.18677790e-02 8.08550420e-03 6.05620371e-03\n",
      " 3.83563348e-03 3.47760811e-03 2.75189766e-03 1.11885247e-03\n",
      " 6.09848010e-04 2.42089643e-04 1.31015985e-04]\n"
     ]
    },
    {
     "data": {
      "image/png": "[encoded data removed]",
      "text/plain": [
       "<Figure size 432x288 with 1 Axes>"
      ]
     },
     "metadata": {
      "needs_background": "light"
     },
     "output_type": "display_data"
    },
    {
     "data": {
      "image/png": "[encoded data removed]",
      "text/plain": [
       "<Figure size 432x288 with 1 Axes>"
      ]
     },
     "metadata": {
      "needs_background": "light"
     },
     "output_type": "display_data"
    }
   ],
   "source": [
    "# Step 6: PCA\n",
    "X = full_df[['comments', 'sentiment', 'dale_chall', 'type_token_ratio',\n",
    "       'characters', 'syllables', 'words', 'wordtypes', 'sentences',\n",
    "       'paragraphs', 'long_words', 'complex_words', 'complex_words_dc',\n",
    "       'tobeverb', 'auxverb', 'conjunction', 'pronoun', 'preposition',\n",
    "       'nominalization']]\n",
    "# NOTE: there are some NAN in X. We will do nearest neighbor interpolation\n",
    "# documentation: https://pandas.pydata.org/pandas-docs/stable/reference/api/pandas.DataFrame.interpolate.html#pandas.DataFrame.interpolate\n",
    "X = X.interpolate(method=\"nearest\")\n",
    "\n",
    "# Create a train / test set\n",
    "#sentiment = sentiment.reset_index(drop=True)\n",
    "#sentiment_binary = (sentiment > 0) + 0\n",
    "#sentiment_binary = np.ravel(sentiment_binary)\n",
    "high = merged_df['high']\n",
    "# Train / Test Split\n",
    "X_train, X_test, y_train, y_test = train_test_split(X,\n",
    "                                                    high,\n",
    "                                                    test_size=0.2,\n",
    "                                                    random_state=420)\n",
    "\n",
    "# Fit PCA on X_train and X_test\n",
    "# Scale\n",
    "scaler = StandardScaler()\n",
    "Z_train = scaler.fit_transform(X_train)\n",
    "Z_test = scaler.fit_transform(X_test)\n",
    "\n",
    "# Fit PCA to the Train set\n",
    "pca = PCA(n_components=Z_train.shape[1], svd_solver='full')\n",
    "pca.fit(Z_train)\n",
    "# Transform\n",
    "X_train_pca = pca.transform(Z_train)\n",
    "X_test_pca = pca.transform(Z_test)\n",
    "\n",
    "# determine variance explained\n",
    "print(pca.explained_variance_ratio_)\n",
    "plt.plot(range(Z_train.shape[1]), pca.explained_variance_ratio_)\n",
    "plt.show()\n",
    "plt.plot(range(Z_train.shape[1]), np.cumsum(pca.explained_variance_ratio_))\n",
    "plt.show()\n",
    "np.cumsum(pca.explained_variance_ratio_)\n",
    "# 6 components explains 90% of the variance.\n",
    "# so, let's take the 6 components and do PCA regression\n",
    "\n",
    "# get the components\n",
    "pca = PCA(n_components=6, svd_solver='full')\n",
    "pca.fit(Z_train)\n",
    "# Transform\n",
    "X_train_pca = pca.transform(Z_train)\n",
    "X_test_pca = pca.transform(Z_test)"
   ]
  },
  {
   "cell_type": "code",
   "execution_count": 56,
   "metadata": {},
   "outputs": [],
   "source": [
    "# Step 7: Regression (Sentiment vs PC's)\n",
    "# regression: sentiment vs PC's\n",
    "npc = np.array(range(6)) + 1\n",
    "pcnames = ['PC_' + str(i) for i in npc ]\n",
    "X_train_pca = pd.DataFrame(X_train_pca, columns=pcnames)\n",
    "X_test_pca = pd.DataFrame(X_test_pca, columns=pcnames)"
   ]
  },
  {
   "cell_type": "code",
   "execution_count": 65,
   "metadata": {},
   "outputs": [
    {
     "name": "stdout",
     "output_type": "stream",
     "text": [
      "Accuracy: 0.7546095350533004\n"
     ]
    },
    {
     "data": {
      "image/png": "[encoded data removed]",
      "text/plain": [
       "<Figure size 432x288 with 2 Axes>"
      ]
     },
     "metadata": {
      "needs_background": "light"
     },
     "output_type": "display_data"
    },
    {
     "name": "stdout",
     "output_type": "stream",
     "text": [
      "              precision    recall  f1-score   support\n",
      "\n",
      "           0       0.75      1.00      0.86     21733\n",
      "           1       0.47      0.00      0.00      7066\n",
      "\n",
      "    accuracy                           0.75     28799\n",
      "   macro avg       0.61      0.50      0.43     28799\n",
      "weighted avg       0.69      0.75      0.65     28799\n",
      "\n",
      "Accuracy: 0.5018229799645821\n"
     ]
    },
    {
     "data": {
      "image/png": "[encoded data removed]",
      "text/plain": [
       "<Figure size 432x288 with 2 Axes>"
      ]
     },
     "metadata": {
      "needs_background": "light"
     },
     "output_type": "display_data"
    },
    {
     "name": "stdout",
     "output_type": "stream",
     "text": [
      "              precision    recall  f1-score   support\n",
      "\n",
      "           0       0.79      0.47      0.59     21733\n",
      "           1       0.27      0.61      0.38      7066\n",
      "\n",
      "    accuracy                           0.50     28799\n",
      "   macro avg       0.53      0.54      0.48     28799\n",
      "weighted avg       0.66      0.50      0.53     28799\n",
      "\n",
      "Accuracy: 0.7546442584811973\n"
     ]
    },
    {
     "data": {
      "image/png": "[encoded data removed]",
      "text/plain": [
       "<Figure size 432x288 with 2 Axes>"
      ]
     },
     "metadata": {
      "needs_background": "light"
     },
     "output_type": "display_data"
    },
    {
     "name": "stdout",
     "output_type": "stream",
     "text": [
      "              precision    recall  f1-score   support\n",
      "\n",
      "           0       0.75      1.00      0.86     21733\n",
      "           1       0.00      0.00      0.00      7066\n",
      "\n",
      "    accuracy                           0.75     28799\n",
      "   macro avg       0.38      0.50      0.43     28799\n",
      "weighted avg       0.57      0.75      0.65     28799\n",
      "\n"
     ]
    }
   ],
   "source": [
    "# Step 8: Logistic Regression\n",
    "\n",
    "#-------------------------------------\n",
    "# Model 1: Vanilla Logistic Regression\n",
    "#-------------------------------------\n",
    "model1 = LogisticRegression(solver='liblinear',\n",
    "                           penalty='l1',\n",
    "                           random_state=20)#,\n",
    "                           #class_weight='balanced')\n",
    "# fit\n",
    "model1.fit(X_train_pca, y_train)\n",
    "# predict\n",
    "model1_preds = model1.predict(X_test_pca)\n",
    "\n",
    "# accuracy\n",
    "acc = np.mean(model1_preds == y_test)\n",
    "print('Accuracy: ' + str(acc))\n",
    "pd.DataFrame(np.transpose(model1.coef_), index = X_train_pca.keys())\n",
    "\n",
    "# Evaluate the model's performance\n",
    "cm = confusion_matrix(y_test, model1_preds,  normalize = \"true\")\n",
    "sns.heatmap(cm, annot=True, cmap=\"Greens\", fmt='g')\n",
    "plt.show()\n",
    "np.mean(model1_preds)\n",
    "\n",
    "print(classification_report(y_test, model1_preds))\n",
    "\n",
    "#--------------------------------------------\n",
    "# Model 2: Class Weighted Logistic Regression\n",
    "#--------------------------------------------\n",
    "model2 = LogisticRegression(solver='liblinear',\n",
    "                           penalty='l1',\n",
    "                           random_state=20,\n",
    "                           class_weight={0: 1.33, 1: 4.027})#class_weight='balanced')\n",
    "# fit\n",
    "model2.fit(X_train_pca, y_train)\n",
    "# predict\n",
    "model2_preds = model2.predict(X_test_pca)\n",
    "\n",
    "# accuracy\n",
    "acc = np.mean(model2_preds == y_test)\n",
    "print('Accuracy: ' + str(acc))\n",
    "pd.DataFrame(np.transpose(model2.coef_), index = X_train_pca.keys())\n",
    "\n",
    "# Evaluate the model's performance\n",
    "cm = confusion_matrix(y_test, model2_preds,  normalize = \"true\")\n",
    "sns.heatmap(cm, annot=True, cmap=\"Greens\", fmt='g')\n",
    "plt.show()\n",
    "np.mean(model2_preds)\n",
    "\n",
    "print(classification_report(y_test, model2_preds))\n",
    "\n",
    "\n",
    "# now let's use just the topics\n",
    "#-----------------------------------------------\n",
    "# Model 3: Logistic Regression with Topic Scores\n",
    "#-----------------------------------------------\n",
    "df = full_df[['topic_0', 'topic_1', 'topic_2',\n",
    "        'topic_3', 'topic_4']]\n",
    "\n",
    "df = df.reset_index(drop=True)\n",
    "\n",
    "X_train, X_test, y_train, y_test = train_test_split(df,\n",
    "                               high, test_size=0.2,random_state=420)\n",
    "\n",
    "model3 = LogisticRegression(solver='liblinear',\n",
    "                           penalty='l1',\n",
    "                           random_state=420)\n",
    "\n",
    "model3.fit(X_train, y_train)\n",
    "\n",
    "model3_preds = model3.predict(X_test)\n",
    "\n",
    "acc_train = np.mean(model3.predict(X_train) == y_train)\n",
    "acc = np.mean(model3_preds == y_test) # Out[151]: for 5 components 0.7533 nice..\n",
    "print('Accuracy: ' + str(acc))\n",
    "\n",
    "pd.DataFrame(np.transpose(model3.coef_), index = X_train.keys())\n",
    "\n",
    "# Evaluate the model's performance\n",
    "cm = confusion_matrix(y_test, model3_preds,  normalize = \"true\")\n",
    "sns.heatmap(cm, annot=True, cmap=\"Greens\", fmt='g')\n",
    "plt.show()\n",
    "np.mean(model3_preds)\n",
    "\n",
    "print(classification_report(y_test, model3_preds))\n",
    "\n",
    "# AWFUL."
   ]
  },
  {
   "cell_type": "code",
   "execution_count": 66,
   "metadata": {},
   "outputs": [
    {
     "name": "stdout",
     "output_type": "stream",
     "text": [
      "Fitting 10 folds for each of 24 candidates, totalling 240 fits\n"
     ]
    },
    {
     "name": "stderr",
     "output_type": "stream",
     "text": [
      "[Parallel(n_jobs=-1)]: Using backend LokyBackend with 4 concurrent workers.\n",
      "[Parallel(n_jobs=-1)]: Done  42 tasks      | elapsed:   17.1s\n",
      "[Parallel(n_jobs=-1)]: Done 192 tasks      | elapsed:  1.0min\n",
      "[Parallel(n_jobs=-1)]: Done 240 out of 240 | elapsed:  1.3min finished\n"
     ]
    },
    {
     "name": "stdout",
     "output_type": "stream",
     "text": [
      "Accuracy: 0.5389743874659704\n"
     ]
    }
   ],
   "source": [
    "# Step 9: Use pipeline to improve models\n",
    "X = full_df[['comments', 'sentiment', 'dale_chall', 'type_token_ratio',\n",
    "       'characters', 'syllables', 'words', 'wordtypes', 'sentences',\n",
    "       'paragraphs', 'long_words', 'complex_words', 'complex_words_dc',\n",
    "       'tobeverb', 'auxverb', 'conjunction', 'pronoun', 'preposition',\n",
    "       'nominalization', 'topic_0', 'topic_1', 'topic_2',\n",
    "        'topic_3', 'topic_4']] # add back the topics.\n",
    "# NOTE: there are some NAN in X. We will do nearest neighbor interpolation\n",
    "# documentation: https://pandas.pydata.org/pandas-docs/stable/reference/api/pandas.DataFrame.interpolate.html#pandas.DataFrame.interpolate\n",
    "X = X.interpolate(method=\"nearest\")\n",
    "\n",
    "high = merged_df['high']\n",
    "# Train / Test Split\n",
    "X_train, X_test, y_train, y_test = train_test_split(X,\n",
    "                                                    high,\n",
    "                                                    test_size=0.25,\n",
    "                                                    random_state=410)\n",
    "\n",
    "pipeline = Pipeline([\n",
    "    ('scaler', StandardScaler()),\n",
    "    ('PCA', PCA()),\n",
    "    ('classifier', LogisticRegression(max_iter=1000, class_weight='balanced'))\n",
    "])\n",
    "\n",
    "parameters = {'PCA__n_components': [1, 3, 5, 7],\n",
    "              'classifier__C': [0.0001, 0.01, 0.1],# regularization\n",
    "              'classifier__class_weight': ['balanced', {0: 1.33, 1:4.027}]}\n",
    "# len(y_train)/y_train.value_counts()\n",
    "\n",
    "grid_search = GridSearchCV(pipeline,\n",
    "                           parameters,\n",
    "                           n_jobs = -1,\n",
    "                           cv = 10,\n",
    "                           verbose = 1)\n",
    "# Fitting 5 folds for each of 64 candidates, totalling 320 fits\n",
    "\n",
    "grid_search.fit(X_train,\n",
    "                y_train)\n",
    "\n",
    "grid_search.best_score_ # 0.7499\n",
    "\n",
    "grid_search.best_estimator_\n",
    "\n",
    "pd.DataFrame(grid_search.cv_results_)\n",
    "\n",
    "# assessing fit of best estimator\n",
    "model4 = grid_search.best_estimator_\n",
    "\n",
    "model4_preds = model4.predict(X_test)\n",
    "\n",
    "acc_train = np.mean(model4.predict(X_train) == y_train)\n",
    "acc = np.mean(model4_preds == y_test) # Out[151]: for 5 components 0.7533 nice..\n",
    "print('Accuracy: ' + str(acc))\n",
    "\n",
    "#pd.DataFrame(np.transpose(model4['classifier'].coef_),\n",
    "#             index = X_train.keys())\n"
   ]
  },
  {
   "cell_type": "code",
   "execution_count": 67,
   "metadata": {},
   "outputs": [
    {
     "data": {
      "image/png": "[encoded data removed]",
      "text/plain": [
       "<Figure size 432x288 with 2 Axes>"
      ]
     },
     "metadata": {
      "needs_background": "light"
     },
     "output_type": "display_data"
    },
    {
     "name": "stdout",
     "output_type": "stream",
     "text": [
      "              precision    recall  f1-score   support\n",
      "\n",
      "           0       0.78      0.54      0.64     26940\n",
      "           1       0.28      0.54      0.37      9058\n",
      "\n",
      "    accuracy                           0.54     35998\n",
      "   macro avg       0.53      0.54      0.50     35998\n",
      "weighted avg       0.65      0.54      0.57     35998\n",
      "\n"
     ]
    }
   ],
   "source": [
    "# Step 10: Evaluate model performance\n",
    "cm = confusion_matrix(y_test, model4_preds,  normalize = \"true\")\n",
    "sns.heatmap(cm, annot=True, cmap=\"Greens\", fmt='g')\n",
    "plt.show()\n",
    "np.mean(model4_preds)\n",
    "\n",
    "print(classification_report(y_test, model4_preds))"
   ]
  },
  {
   "cell_type": "markdown",
   "metadata": {},
   "source": [
    "# Part 6: Miscellaneous"
   ]
  },
  {
   "cell_type": "code",
   "execution_count": 70,
   "metadata": {},
   "outputs": [],
   "source": [
    "# Step 1: Import Modules\n",
    "import pandas as pd\n",
    "import numpy as np\n",
    "import datetime\n",
    "import math\n",
    "import matplotlib.pyplot as plt\n",
    "import seaborn as sns"
   ]
  },
  {
   "cell_type": "code",
   "execution_count": 71,
   "metadata": {},
   "outputs": [],
   "source": [
    "df = pd.read_csv('df_final.csv')\n",
    "# again we remove the null values of df\n",
    "missing = (df[\"text\"].isnull()) | ((df[\"text\"] == '[deleted]')) | ((df[\"text\"] == '[removed]'))\n",
    "df = df.loc[~missing]"
   ]
  },
  {
   "cell_type": "code",
   "execution_count": 72,
   "metadata": {},
   "outputs": [
    {
     "data": {
      "text/plain": [
       "Index(['dale_chall', 'characters_per_word', 'syll_per_word',\n",
       "       'words_per_sentence', 'sentences_per_paragraph', 'type_token_ratio',\n",
       "       'characters', 'syllables', 'words', 'wordtypes', 'sentences',\n",
       "       'paragraphs', 'long_words', 'complex_words', 'complex_words_dc',\n",
       "       'tobeverb', 'auxverb', 'conjunction', 'pronoun', 'preposition',\n",
       "       'nominalization', 'id'],\n",
       "      dtype='object')"
      ]
     },
     "execution_count": 72,
     "metadata": {},
     "output_type": "execute_result"
    }
   ],
   "source": [
    "# how does the Dale-Chall score look?\n",
    "feature_df = pd.read_csv('nlp_data/feature_df.csv', index_col = 0)\n",
    "\n",
    "feature_df.keys()"
   ]
  },
  {
   "cell_type": "code",
   "execution_count": 74,
   "metadata": {},
   "outputs": [
    {
     "data": {
      "text/plain": [
       "count    177069.000000\n",
       "mean         10.637621\n",
       "std           2.908688\n",
       "min           0.000000\n",
       "25%           9.124023\n",
       "50%          10.345010\n",
       "75%          11.754195\n",
       "max         188.432159\n",
       "Name: dale_chall, dtype: float64"
      ]
     },
     "execution_count": 74,
     "metadata": {},
     "output_type": "execute_result"
    }
   ],
   "source": [
    "feature_df['dale_chall'].describe()"
   ]
  },
  {
   "cell_type": "code",
   "execution_count": 75,
   "metadata": {},
   "outputs": [
    {
     "name": "stdout",
     "output_type": "stream",
     "text": [
      "Is there one? What is it? Otherwise do we need one? I think so, what should it be?\n",
      "Thanks. \n",
      "thanks, sorry for being dumb\n"
     ]
    }
   ],
   "source": [
    "# example of min:\n",
    "print(df[feature_df['dale_chall']==0]['text'].iloc[0])\n",
    "print(df[feature_df['dale_chall']==0]['text'].iloc[10])\n",
    "print(df[feature_df['dale_chall']==0]['text'].iloc[1])"
   ]
  },
  {
   "cell_type": "code",
   "execution_count": 76,
   "metadata": {},
   "outputs": [
    {
     "data": {
      "text/plain": [
       "'Version:1.0 StartHTML:000000195 EndHTML:000029614 StartFragment:000029335 EndFragment:000029582 StartSelection:000029335 EndSelection:000029582 SourceURL:https://login.blockchain.com/en/   .\\\\_\\\\_react\\\\_component\\\\_tooltip{border-radius:3px;display:inline-block;font-size:13px;left:-999em;opacity:0;padding:8px 21px;position:fixed;pointer-events:none;transition:opacity 0.3s ease-out;top:-999em;visibility:hidden;z-index:999}.\\\\_\\\\_react\\\\_component\\\\_tooltip.allow\\\\_hover{pointer-events:auto}.\\\\_\\\\_react\\\\_component\\\\_tooltip:before,.\\\\_\\\\_react\\\\_component\\\\_tooltip:after{content:\"\";width:0;height:0;position:absolute}.\\\\_\\\\_react\\\\_component\\\\_tooltip.show{opacity:0.9;margin-top:0px;margin-left:0px;visibility:visible}.\\\\_\\\\_react\\\\_component\\\\_tooltip.type-dark{color:#fff;background-color:#222}.\\\\_\\\\_react\\\\_component\\\\_tooltip.type-dark.place-top:after{border-top-color:#222;border-top-style:solid;border-top-width:6px}.\\\\_\\\\_react\\\\_component\\\\_tooltip.type-dark.place-bottom:after{border-bottom-color:#222;border-bottom-style:solid;border-bottom-width:6px}.\\\\_\\\\_react\\\\_component\\\\_tooltip.type-dark.place-left:after{border-left-color:#222;border-left-style:solid;border-left-width:6px}.\\\\_\\\\_react\\\\_component\\\\_tooltip.type-dark.place-right:after{border-right-color:#222;border-right-style:solid;border-right-width:6px}.\\\\_\\\\_react\\\\_component\\\\_tooltip.type-dark.border{border:1px solid #fff}.\\\\_\\\\_react\\\\_component\\\\_tooltip.type-dark.border.place-top:before{border-top:8px solid #fff}.\\\\_\\\\_react\\\\_component\\\\_tooltip.type-dark.border.place-bottom:before{border-bottom:8px solid #fff}.\\\\_\\\\_react\\\\_component\\\\_tooltip.type-dark.border.place-left:before{border-left:8px solid #fff}.\\\\_\\\\_react\\\\_component\\\\_tooltip.type-dark.border.place-right:before{border-right:8px solid #fff}.\\\\_\\\\_react\\\\_component\\\\_tooltip.type-success{color:#fff;background-color:#8DC572}.\\\\_\\\\_react\\\\_component\\\\_tooltip.type-success.place-top:after{border-top-color:#8DC572;border-top-style:solid;border-top-width:6px}.\\\\_\\\\_react\\\\_component\\\\_tooltip.type-success.place-bottom:after{border-bottom-color:#8DC572;border-bottom-style:solid;border-bottom-width:6px}.\\\\_\\\\_react\\\\_component\\\\_tooltip.type-success.place-left:after{border-left-color:#8DC572;border-left-style:solid;border-left-width:6px}.\\\\_\\\\_react\\\\_component\\\\_tooltip.type-success.place-right:after{border-right-color:#8DC572;border-right-style:solid;border-right-width:6px}.\\\\_\\\\_react\\\\_component\\\\_tooltip.type-success.border{border:1px solid #fff}.\\\\_\\\\_react\\\\_component\\\\_tooltip.type-success.border.place-top:before{border-top:8px solid #fff}.\\\\_\\\\_react\\\\_component\\\\_tooltip.type-success.border.place-bottom:before{border-bottom:8px solid #fff}.\\\\_\\\\_react\\\\_component\\\\_tooltip.type-success.border.place-left:before{border-left:8px solid #fff}.\\\\_\\\\_react\\\\_component\\\\_tooltip.type-success.border.place-right:before{border-right:8px solid #fff}.\\\\_\\\\_react\\\\_component\\\\_tooltip.type-warning{color:#fff;background-color:#F0AD4E}.\\\\_\\\\_react\\\\_component\\\\_tooltip.type-warning.place-top:after{border-top-color:#F0AD4E;border-top-style:solid;border-top-width:6px}.\\\\_\\\\_react\\\\_component\\\\_tooltip.type-warning.place-bottom:after{border-bottom-color:#F0AD4E;border-bottom-style:solid;border-bottom-width:6px}.\\\\_\\\\_react\\\\_component\\\\_tooltip.type-warning.place-left:after{border-left-color:#F0AD4E;border-left-style:solid;border-left-width:6px}.\\\\_\\\\_react\\\\_component\\\\_tooltip.type-warning.place-right:after{border-right-color:#F0AD4E;border-right-style:solid;border-right-width:6px}.\\\\_\\\\_react\\\\_component\\\\_tooltip.type-warning.border{border:1px solid #fff}.\\\\_\\\\_react\\\\_component\\\\_tooltip.type-warning.border.place-top:before{border-top:8px solid #fff}.\\\\_\\\\_react\\\\_component\\\\_tooltip.type-warning.border.place-bottom:before{border-bottom:8px solid #fff}.\\\\_\\\\_react\\\\_component\\\\_tooltip.type-warning.border.place-left:before{border-left:8px solid #fff}.\\\\_\\\\_react\\\\_component\\\\_tooltip.type-warning.border.place-right:before{border-right:8px solid #fff}.\\\\_\\\\_react\\\\_component\\\\_tooltip.type-error{color:#fff;background-color:#BE6464}.\\\\_\\\\_react\\\\_component\\\\_tooltip.type-error.place-top:after{border-top-color:#BE6464;border-top-style:solid;border-top-width:6px}.\\\\_\\\\_react\\\\_component\\\\_tooltip.type-error.place-bottom:after{border-bottom-color:#BE6464;border-bottom-style:solid;border-bottom-width:6px}.\\\\_\\\\_react\\\\_component\\\\_tooltip.type-error.place-left:after{border-left-color:#BE6464;border-left-style:solid;border-left-width:6px}.\\\\_\\\\_react\\\\_component\\\\_tooltip.type-error.place-right:after{border-right-color:#BE6464;border-right-style:solid;border-right-width:6px}.\\\\_\\\\_react\\\\_component\\\\_tooltip.type-error.border{border:1px solid #fff}.\\\\_\\\\_react\\\\_component\\\\_tooltip.type-error.border.place-top:before{border-top:8px solid #fff}.\\\\_\\\\_react\\\\_component\\\\_tooltip.type-error.border.place-bottom:before{border-bottom:8px solid #fff}.\\\\_\\\\_react\\\\_component\\\\_tooltip.type-error.border.place-left:before{border-left:8px solid #fff}.\\\\_\\\\_react\\\\_component\\\\_tooltip.type-error.border.place-right:before{border-right:8px solid #fff}.\\\\_\\\\_react\\\\_component\\\\_tooltip.type-info{color:#fff;background-color:#337AB7}.\\\\_\\\\_react\\\\_component\\\\_tooltip.type-info.place-top:after{border-top-color:#337AB7;border-top-style:solid;border-top-width:6px}.\\\\_\\\\_react\\\\_component\\\\_tooltip.type-info.place-bottom:after{border-bottom-color:#337AB7;border-bottom-style:solid;border-bottom-width:6px}.\\\\_\\\\_react\\\\_component\\\\_tooltip.type-info.place-left:after{border-left-color:#337AB7;border-left-style:solid;border-left-width:6px}.\\\\_\\\\_react\\\\_component\\\\_tooltip.type-info.place-right:after{border-right-color:#337AB7;border-right-style:solid;border-right-width:6px}.\\\\_\\\\_react\\\\_component\\\\_tooltip.type-info.border{border:1px solid #fff}.\\\\_\\\\_react\\\\_component\\\\_tooltip.type-info.border.place-top:before{border-top:8px solid #fff}.\\\\_\\\\_react\\\\_component\\\\_tooltip.type-info.border.place-bottom:before{border-bottom:8px solid #fff}.\\\\_\\\\_react\\\\_component\\\\_tooltip.type-info.border.place-left:before{border-left:8px solid #fff}.\\\\_\\\\_react\\\\_component\\\\_tooltip.type-info.border.place-right:before{border-right:8px solid #fff}.\\\\_\\\\_react\\\\_component\\\\_tooltip.type-light{color:#222;background-color:#fff}.\\\\_\\\\_react\\\\_component\\\\_tooltip.type-light.place-top:after{border-top-color:#fff;border-top-style:solid;border-top-width:6px}.\\\\_\\\\_react\\\\_component\\\\_tooltip.type-light.place-bottom:after{border-bottom-color:#fff;border-bottom-style:solid;border-bottom-width:6px}.\\\\_\\\\_react\\\\_component\\\\_tooltip.type-light.place-left:after{border-left-color:#fff;border-left-style:solid;border-left-width:6px}.\\\\_\\\\_react\\\\_component\\\\_tooltip.type-light.place-right:after{border-right-color:#fff;border-right-style:solid;border-right-width:6px}.\\\\_\\\\_react\\\\_component\\\\_tooltip.type-light.border{border:1px solid #222}.\\\\_\\\\_react\\\\_component\\\\_tooltip.type-light.border.place-top:before{border-top:8px solid #222}.\\\\_\\\\_react\\\\_component\\\\_tooltip.type-light.border.place-bottom:before{border-bottom:8px solid #222}.\\\\_\\\\_react\\\\_component\\\\_tooltip.type-light.border.place-left:before{border-left:8px solid #222}.\\\\_\\\\_react\\\\_component\\\\_tooltip.type-light.border.place-right:before{border-right:8px solid #222}.\\\\_\\\\_react\\\\_component\\\\_tooltip.place-top{margin-top:-10px}.\\\\_\\\\_react\\\\_component\\\\_tooltip.place-top:before{border-left:10px solid transparent;border-right:10px solid transparent;bottom:-8px;left:50%;margin-left:-10px}.\\\\_\\\\_react\\\\_component\\\\_tooltip.place-top:after{border-left:8px solid transparent;border-right:8px solid transparent;bottom:-6px;left:50%;margin-left:-8px}.\\\\_\\\\_react\\\\_component\\\\_tooltip.place-bottom{margin-top:10px}.\\\\_\\\\_react\\\\_component\\\\_tooltip.place-bottom:before{border-left:10px solid transparent;border-right:10px solid transparent;top:-8px;left:50%;margin-left:-10px}.\\\\_\\\\_react\\\\_component\\\\_tooltip.place-bottom:after{border-left:8px solid transparent;border-right:8px solid transparent;top:-6px;left:50%;margin-left:-8px}.\\\\_\\\\_react\\\\_component\\\\_tooltip.place-left{margin-left:-10px}.\\\\_\\\\_react\\\\_component\\\\_tooltip.place-left:before{border-top:6px solid transparent;border-bottom:6px solid transparent;right:-8px;top:50%;margin-top:-5px}.\\\\_\\\\_react\\\\_component\\\\_tooltip.place-left:after{border-top:5px solid transparent;border-bottom:5px solid transparent;right:-6px;top:50%;margin-top:-4px}.\\\\_\\\\_react\\\\_component\\\\_tooltip.place-right{margin-left:10px}.\\\\_\\\\_react\\\\_component\\\\_tooltip.place-right:before{border-top:6px solid transparent;border-bottom:6px solid transparent;left:-8px;top:50%;margin-top:-5px}.\\\\_\\\\_react\\\\_component\\\\_tooltip.place-right:after{border-top:5px solid transparent;border-bottom:5px solid transparent;left:-6px;top:50%;margin-top:-4px}.\\\\_\\\\_react\\\\_component\\\\_tooltip .multi-line{display:block;padding:2px 0px;text-align:center} Blockchain Wallet - Exchange Cryptocurrency        window.NONCE = \\'\\\\*\\\\*CSP\\\\_NONCE\\\\*\\\\*\\' \\t\\t window.NONCE = \\'898b494d8fddaca30d9cb30f18676c18\\';    .intl-tel-input{position:relative;display:inline-block}.intl-tel-input \\\\*{box-sizing:border-box;-moz-box-sizing:border-box}.intl-tel-input .hide{display:none}.intl-tel-input .v-hide{visibility:hidden}.intl-tel-input input,.intl-tel-input input\\\\[type=tel\\\\],.intl-tel-input input\\\\[type=text\\\\]{position:relative;z-index:0;margin-top:0!important;margin-bottom:0!important;padding-right:36px;margin-right:0}.intl-tel-input .flag-container{position:absolute;top:0;bottom:0;right:0;padding:1px}.intl-tel-input .selected-flag{z-index:1;position:relative;width:36px;height:100%;padding:0 0 0 8px}.intl-tel-input .selected-flag .iti-flag{position:absolute;top:0;bottom:0;margin:auto}.intl-tel-input .selected-flag .iti-arrow{position:absolute;top:50%;margin-top:-2px;right:6px;width:0;height:0;border-left:3px solid transparent;border-right:3px solid transparent;border-top:4px solid #555}.intl-tel-input .selected-flag .iti-arrow.up{border-top:none;border-bottom:4px solid #555}.intl-tel-input .country-list{position:absolute;z-index:2;list-style:none;text-align:left;padding:0;margin:0 0 0 -1px;box-shadow:1px 1px 4px rgba(0,0,0,.2);background-color:#fff;border:1px solid #ccc;white-space:nowrap;max-height:200px;overflow-y:scroll;-webkit-overflow-scrolling:touch}.intl-tel-input .country-list.dropup{bottom:100%;margin-bottom:-1px}.intl-tel-input .country-list .flag-box{display:inline-block;width:20px}@media (max-width:500px){.intl-tel-input .country-list{white-space:normal}}.intl-tel-input .country-list .divider{padding-bottom:5px;margin-bottom:5px;border-bottom:1px solid #ccc}.intl-tel-input .country-list .country{padding:5px 10px}.intl-tel-input .country-list .country .dial-code{color:#999}.intl-tel-input .country-list .country.highlight{background-color:rgba(0,0,0,.05)}.intl-tel-input .country-list .country-name,.intl-tel-input .country-list .dial-code,.intl-tel-input .country-list .flag-box{vertical-align:middle}.intl-tel-input .country-list .country-name,.intl-tel-input .country-list .flag-box{margin-right:6px}.intl-tel-input.allow-dropdown input,.intl-tel-input.allow-dropdown input\\\\[type=tel\\\\],.intl-tel-input.allow-dropdown input\\\\[type=text\\\\]{padding-right:6px;padding-left:52px;margin-left:0}.intl-tel-input.allow-dropdown .flag-container{right:auto;left:0;width:100%}.intl-tel-input.allow-dropdown .selected-flag{width:46px}.intl-tel-input.allow-dropdown .flag-container:hover{cursor:pointer}.intl-tel-input.allow-dropdown .flag-container:hover .selected-flag{background-color:rgba(0,0,0,.05)}.intl-tel-input.allow-dropdown input\\\\[disabled\\\\]+.flag-container:hover,.intl-tel-input.allow-dropdown input\\\\[readonly\\\\]+.flag-container:hover{cursor:default}.intl-tel-input.allow-dropdown input\\\\[disabled\\\\]+.flag-container:hover .selected-flag,.intl-tel-input.allow-dropdown input\\\\[readonly\\\\]+.flag-container:hover .selected-flag{background-color:transparent}.intl-tel-input.allow-dropdown.separate-dial-code .selected-flag{background-color:rgba(0,0,0,.05);display:table}.intl-tel-input.allow-dropdown.separate-dial-code .selected-dial-code{display:table-cell;vertical-align:middle;padding-left:28px}.intl-tel-input.allow-dropdown.separate-dial-code.iti-sdc-2 input,.intl-tel-input.allow-dropdown.separate-dial-code.iti-sdc-2 input\\\\[type=tel\\\\],.intl-tel-input.allow-dropdown.separate-dial-code.iti-sdc-2 input\\\\[type=text\\\\]{padding-left:76px}.intl-tel-input.allow-dropdown.separate-dial-code.iti-sdc-2 .selected-flag{width:70px}.intl-tel-input.allow-dropdown.separate-dial-code.iti-sdc-3 input,.intl-tel-input.allow-dropdown.separate-dial-code.iti-sdc-3 input\\\\[type=tel\\\\],.intl-tel-input.allow-dropdown.separate-dial-code.iti-sdc-3 input\\\\[type=text\\\\]{padding-left:84px}.intl-tel-input.allow-dropdown.separate-dial-code.iti-sdc-3 .selected-flag{width:78px}.intl-tel-input.allow-dropdown.separate-dial-code.iti-sdc-4 input,.intl-tel-input.allow-dropdown.separate-dial-code.iti-sdc-4 input\\\\[type=tel\\\\],.intl-tel-input.allow-dropdown.separate-dial-code.iti-sdc-4 input\\\\[type=text\\\\]{padding-left:92px}.intl-tel-input.allow-dropdown.separate-dial-code.iti-sdc-4 .selected-flag{width:86px}.intl-tel-input.allow-dropdown.separate-dial-code.iti-sdc-5 input,.intl-tel-input.allow-dropdown.separate-dial-code.iti-sdc-5 input\\\\[type=tel\\\\],.intl-tel-input.allow-dropdown.separate-dial-code.iti-sdc-5 input\\\\[type=text\\\\]{padding-left:100px}.intl-tel-input.allow-dropdown.separate-dial-code.iti-sdc-5 .selected-flag{width:94px}.intl-tel-input.iti-container{position:absolute;top:-1000px;left:-1000px;z-index:1060;padding:1px}.intl-tel-input.iti-container:hover{cursor:pointer}.iti-mobile .intl-tel-input.iti-container{top:30px;bottom:30px;left:30px;right:30px;position:fixed}.iti-mobile .intl-tel-input .country-list{max-height:100%;width:100%;-webkit-overflow-scrolling:touch}.iti-mobile .intl-tel-input .country-list .country{padding:10px;line-height:1.5em}.iti-flag.be{width:18px}.iti-flag.ch{width:15px}.iti-flag.mc{width:19px}.iti-flag.ne{width:18px}.iti-flag.np{width:13px}.iti-flag.va{width:15px}@media only screen and (-o-min-device-pixel-ratio:2/1),only screen and (-webkit-min-device-pixel-ratio:2),only screen and (min--moz-device-pixel-ratio:2),only screen and (min-device-pixel-ratio:2),only screen and (min-resolution:2dppx),only screen and (min-resolution:192dpi){.iti-flag{background-size:5630px 15px}}.iti-flag.ac{height:10px;background-position:0 0}.iti-flag.ad{height:14px;background-position:-22px 0}.iti-flag.ae{height:10px;background-position:-44px 0}.iti-flag.af{height:14px;background-position:-66px 0}.iti-flag.ag{height:14px;background-position:-88px 0}.iti-flag.ai{height:10px;background-position:-110px 0}.iti-flag.al{height:15px;background-position:-132px 0}.iti-flag.am{height:10px;background-position:-154px 0}.iti-flag.ao{height:14px;background-position:-176px 0}.iti-flag.aq{height:14px;background-position:-198px 0}.iti-flag.ar{height:13px;background-position:-220px 0}.iti-flag.as{height:10px;background-position:-242px 0}.iti-flag.at{height:14px;background-position:-264px 0}.iti-flag.au{height:10px;background-position:-286px 0}.iti-flag.aw{height:14px;background-position:-308px 0}.iti-flag.ax{height:13px;background-position:-330px 0}.iti-flag.az{height:10px;background-position:-352px 0}.iti-flag.ba{height:10px;background-position:-374px 0}.iti-flag.bb{height:14px;background-position:-396px 0}.iti-flag.bd{height:12px;background-position:-418px 0}.iti-flag.be{height:15px;background-position:-440px 0}.iti-flag.bf{height:14px;background-position:-460px 0}.iti-flag.bg{height:12px;background-position:-482px 0}.iti-flag.bh{height:12px;background-position:-504px 0}.iti-flag.bi{height:12px;background-position:-526px 0}.iti-flag.bj{height:14px;background-position:-548px 0}.iti-flag.bl{height:14px;background-position:-570px 0}.iti-flag.bm{height:10px;background-position:-592px 0}.iti-flag.bn{height:10px;background-position:-614px 0}.iti-flag.bo{height:14px;background-position:-636px 0}.iti-flag.bq{height:14px;background-position:-658px 0}.iti-flag.br{height:14px;background-position:-680px 0}.iti-flag.bs{height:10px;background-position:-702px 0}.iti-flag.bt{height:14px;background-position:-724px 0}.iti-flag.bv{height:15px;background-position:-746px 0}.iti-flag.bw{height:14px;background-position:-768px 0}.iti-flag.by{height:10px;background-position:-790px 0}.iti-flag.bz{height:14px;background-position:-812px 0}.iti-flag.ca{height:10px;background-position:-834px 0}.iti-flag.cc{height:10px;background-position:-856px 0}.iti-flag.cd{height:15px;background-position:-878px 0}.iti-flag.cf{height:14px;background-position:-900px 0}.iti-flag.cg{height:14px;background-position:-922px 0}.iti-flag.ch{height:15px;background-position:-944px 0}.iti-flag.ci{height:14px;background-position:-961px 0}.iti-flag.ck{height:10px;background-position:-983px 0}.iti-flag.cl{height:14px;background-position:-1005px 0}.iti-flag.cm{height:14px;background-position:-1027px 0}.iti-flag.cn{height:14px;background-position:-1049px 0}.iti-flag.co{height:14px;background-position:-1071px 0}.iti-flag.cp{height:14px;background-position:-1093px 0}.iti-flag.cr{height:12px;background-position:-1115px 0}.iti-flag.cu{height:10px;background-position:-1137px 0}.iti-flag.cv{height:12px;background-position:-1159px 0}.iti-flag.cw{height:14px;background-position:-1181px 0}.iti-flag.cx{height:10px;background-position:-1203px 0}.iti-flag.cy{height:14px;background-position:-1225px 0}.iti-flag.cz{height:14px;background-position:-1247px 0}.iti-flag.de{height:12px;background-position:-1269px 0}.iti-flag.dg{height:10px;background-position:-1291px 0}.iti-flag.dj{height:14px;background-position:-1313px 0}.iti-flag.dk{height:15px;background-position:-1335px 0}.iti-flag.dm{height:10px;background-position:-1357px 0}.iti-flag.do{height:13px;background-position:-1379px 0}.iti-flag.dz{height:14px;background-position:-1401px 0}.iti-flag.ea{height:14px;background-position:-1423px 0}.iti-flag.ec{height:14px;background-position:-1445px 0}.iti-flag.ee{height:13px;background-position:-1467px 0}.iti-flag.eg{height:14px;background-position:-1489px 0}.iti-flag.eh{height:10px;background-position:-1511px 0}.iti-flag.er{height:10px;background-position:-1533px 0}.iti-flag.es{height:14px;background-position:-1555px 0}.iti-flag.et{height:10px;background-position:-1577px 0}.iti-flag.eu{height:14px;background-position:-1599px 0}.iti-flag.fi{height:12px;background-position:-1621px 0}.iti-flag.fj{height:10px;background-position:-1643px 0}.iti-flag.fk{height:10px;background-position:-1665px 0}.iti-flag.fm{height:11px;background-position:-1687px 0}.iti-flag.fo{height:15px;background-position:-1709px 0}.iti-flag.fr{height:14px;background-position:-1731px 0}.iti-flag.ga{height:15px;background-position:-1753px 0}.iti-flag.gb{height:10px;background-position:-1775px 0}.iti-flag.gd{height:12px;background-position:-1797px 0}.iti-flag.ge{height:14px;background-position:-1819px 0}.iti-flag.gf{height:14px;background-position:-1841px 0}.iti-flag.gg{height:14px;background-position:-1863px 0}.iti-flag.gh{height:14px;background-position:-1885px 0}.iti-flag.gi{height:10px;background-position:-1907px 0}.iti-flag.gl{height:14px;background-position:-1929px 0}.iti-flag.gm{height:14px;background-position:-1951px 0}.iti-flag.gn{height:14px;background-position:-1973px 0}.iti-flag.gp{height:14px;background-position:-1995px 0}.iti-flag.gq{height:14px;background-position:-2017px 0}.iti-flag.gr{height:14px;background-position:-2039px 0}.iti-flag.gs{height:10px;background-position:-2061px 0}.iti-flag.gt{height:13px;background-position:-2083px 0}.iti-flag.gu{height:11px;background-position:-2105px 0}.iti-flag.gw{height:10px;background-position:-2127px 0}.iti-flag.gy{height:12px;background-position:-2149px 0}.iti-flag.hk{height:14px;background-position:-2171px 0}.iti-flag.hm{height:10px;background-position:-2193px 0}.iti-flag.hn{height:10px;background-position:-2215px 0}.iti-flag.hr{height:10px;background-position:-2237px 0}.iti-flag.ht{height:12px;background-position:-2259px 0}.iti-flag.hu{height:10px;background-position:-2281px 0}.iti-flag.ic{height:14px;background-position:-2303px 0}.iti-flag.id{height:14px;background-position:-2325px 0}.iti-flag.ie{height:10px;background-position:-2347px 0}.iti-flag.il{height:15px;background-position:-2369px 0}.iti-flag.im{height:10px;background-position:-2391px 0}.iti-flag.in{height:14px;background-position:-2413px 0}.iti-flag.io{height:10px;background-position:-2435px 0}.iti-flag.iq{height:14px;background-position:-2457px 0}.iti-flag.ir{height:12px;background-position:-2479px 0}.iti-flag.is{height:15px;background-position:-2501px 0}.iti-flag.it{height:14px;background-position:-2523px 0}.iti-flag.je{height:12px;background-position:-2545px 0}.iti-flag.jm{height:10px;background-position:-2567px 0}.iti-flag.jo{height:10px;background-position:-2589px 0}.iti-flag.jp{height:14px;background-position:-2611px 0}.iti-flag.ke{height:14px;background-position:-2633px 0}.iti-flag.kg{height:12px;background-position:-2655px 0}.iti-flag.kh{height:13px;background-position:-2677px 0}.iti-flag.ki{height:10px;background-position:-2699px 0}.iti-flag.km{height:12px;background-position:-2721px 0}.iti-flag.kn{height:14px;background-position:-2743px 0}.iti-flag.kp{height:10px;background-position:-2765px 0}.iti-flag.kr{height:14px;background-position:-2787px 0}.iti-flag.kw{height:10px;background-position:-2809px 0}.iti-flag.ky{height:10px;background-position:-2831px 0}.iti-flag.kz{height:10px;background-position:-2853px 0}.iti-flag.la{height:14px;background-position:-2875px 0}.iti-flag.lb{height:14px;background-position:-2897px 0}.iti-flag.lc{height:10px;background-position:-2919px 0}.iti-flag.li{height:12px;background-position:-2941px 0}.iti-flag.lk{height:10px;background-position:-2963px 0}.iti-flag.lr{height:11px;background-position:-2985px 0}.iti-flag.ls{height:14px;background-position:-3007px 0}.iti-flag.lt{height:12px;background-position:-3029px 0}.iti-flag.lu{height:12px;background-position:-3051px 0}.iti-flag.lv{height:10px;background-position:-3073px 0}.iti-flag.ly{height:10px;background-position:-3095px 0}.iti-flag.ma{height:14px;background-position:-3117px 0}.iti-flag.mc{height:15px;background-position:-3139px 0}.iti-flag.md{height:10px;background-position:-3160px 0}.iti-flag.me{height:10px;background-position:-3182px 0}.iti-flag.mf{height:14px;background-position:-3204px 0}.iti-flag.mg{height:14px;background-position:-3226px 0}.iti-flag.mh{height:11px;background-position:-3248px 0}.iti-flag.mk{height:10px;background-position:-3270px 0}.iti-flag.ml{height:14px;background-position:-3292px 0}.iti-flag.mm{height:14px;background-position:-3314px 0}.iti-flag.mn{height:10px;background-position:-3336px 0}.iti-flag.mo{height:14px;background-position:-3358px 0}.iti-flag.mp{height:10px;background-position:-3380px 0}.iti-flag.mq{height:14px;background-position:-3402px 0}.iti-flag.mr{height:14px;background-position:-3424px 0}.iti-flag.ms{height:10px;background-position:-3446px 0}.iti-flag.mt{height:14px;background-position:-3468px 0}.iti-flag.mu{height:14px;background-position:-3490px 0}.iti-flag.mv{height:14px;background-position:-3512px 0}.iti-flag.mw{height:14px;background-position:-3534px 0}.iti-flag.mx{height:12px;background-position:-3556px 0}.iti-flag.my{height:10px;background-position:-3578px 0}.iti-flag.mz{height:14px;background-position:-3600px 0}.iti-flag.na{height:14px;background-position:-3622px 0}.iti-flag.nc{height:10px;background-position:-3644px 0}.iti-flag.ne{height:15px;background-position:-3666px 0}.iti-flag.nf{height:10px;background-position:-3686px 0}.iti-flag.ng{height:10px;background-position:-3708px 0}.iti-flag.ni{height:12px;background-position:-3730px 0}.iti-flag.nl{height:14px;background-position:-3752px 0}.iti-flag.no{height:15px;background-position:-3774px 0}.iti-flag.np{height:15px;background-position:-3796px 0}.iti-flag.nr{height:10px;background-position:-3811px 0}.iti-flag.nu{height:10px;background-position:-3833px 0}.iti-flag.nz{height:10px;background-position:-3855px 0}.iti-flag.om{height:10px;background-position:-3877px 0}.iti-flag.pa{height:14px;background-position:-3899px 0}.iti-flag.pe{height:14px;background-position:-3921px 0}.iti-flag.pf{height:14px;background-position:-3943px 0}.iti-flag.pg{height:15px;background-position:-3965px 0}.iti-flag.ph{height:10px;background-position:-3987px 0}.iti-flag.pk{height:14px;background-position:-4009px 0}.iti-flag.pl{height:13px;background-position:-4031px 0}.iti-flag.pm{height:14px;background-position:-4053px 0}.iti-flag.pn{height:10px;background-position:-4075px 0}.iti-flag.pr{height:14px;background-position:-4097px 0}.iti-flag.ps{height:10px;background-position:-4119px 0}.iti-flag.pt{height:14px;background-position:-4141px 0}.iti-flag.pw{height:13px;background-position:-4163px 0}.iti-flag.py{height:11px;background-position:-4185px 0}.iti-flag.qa{height:8px;background-position:-4207px 0}.iti-flag.re{height:14px;background-position:-4229px 0}.iti-flag.ro{height:14px;background-position:-4251px 0}.iti-flag.rs{height:14px;background-position:-4273px 0}.iti-flag.ru{height:14px;background-position:-4295px 0}.iti-flag.rw{height:14px;background-position:-4317px 0}.iti-flag.sa{height:14px;background-position:-4339px 0}.iti-flag.sb{height:10px;background-position:-4361px 0}.iti-flag.sc{height:10px;background-position:-4383px 0}.iti-flag.sd{height:10px;background-position:-4405px 0}.iti-flag.se{height:13px;background-position:-4427px 0}.iti-flag.sg{height:14px;background-position:-4449px 0}.iti-flag.sh{height:10px;background-position:-4471px 0}.iti-flag.si{height:10px;background-position:-4493px 0}.iti-flag.sj{height:15px;background-position:-4515px 0}.iti-flag.sk{height:14px;background-position:-4537px 0}.iti-flag.sl{height:14px;background-position:-4559px 0}.iti-flag.sm{height:15px;background-position:-4581px 0}.iti-flag.sn{height:14px;background-position:-4603px 0}.iti-flag.so{height:14px;background-position:-4625px 0}.iti-flag.sr{height:14px;background-position:-4647px 0}.iti-flag.ss{height:10px;background-position:-4669px 0}.iti-flag.st{height:10px;background-position:-4691px 0}.iti-flag.sv{height:12px;background-position:-4713px 0}.iti-flag.sx{height:14px;background-position:-4735px 0}.iti-flag.sy{height:14px;background-position:-4757px 0}.iti-flag.sz{height:14px;background-position:-4779px 0}.iti-flag.ta{height:10px;background-position:-4801px 0}.iti-flag.tc{height:10px;background-position:-4823px 0}.iti-flag.td{height:14px;background-position:-4845px 0}.iti-flag.tf{height:14px;background-position:-4867px 0}.iti-flag.tg{height:13px;background-position:-4889px 0}.iti-flag.th{height:14px;background-position:-4911px 0}.iti-flag.tj{height:10px;background-position:-4933px 0}.iti-flag.tk{height:10px;background-position:-4955px 0}.iti-flag.tl{height:10px;background-position:-4977px 0}.iti-flag.tm{height:14px;background-position:-4999px 0}.iti-flag.tn{height:14px;background-position:-5021px 0}.iti-flag.to{height:10px;background-position:-5043px 0}.iti-flag.tr{height:14px;background-position:-5065px 0}.iti-flag.tt{height:12px;background-position:-5087px 0}.iti-flag.tv{height:10px;background-position:-5109px 0}.iti-flag.tw{height:14px;background-position:-5131px 0}.iti-flag.tz{height:14px;background-position:-5153px 0}.iti-flag.ua{height:14px;background-position:-5175px 0}.iti-flag.ug{height:14px;background-position:-5197px 0}.iti-flag.um{height:11px;background-position:-5219px 0}.iti-flag.us{height:11px;background-position:-5241px 0}.iti-flag.uy{height:14px;background-position:-5263px 0}.iti-flag.uz{height:10px;background-position:-5285px 0}.iti-flag.va{height:15px;background-position:-5307px 0}.iti-flag.vc{height:14px;background-position:-5324px 0}.iti-flag.ve{height:14px;background-position:-5346px 0}.iti-flag.vg{height:10px;background-position:-5368px 0}.iti-flag.vi{height:14px;background-position:-5390px 0}.iti-flag.vn{height:14px;background-position:-5412px 0}.iti-flag.vu{height:12px;background-position:-5434px 0}.iti-flag.wf{height:14px;background-position:-5456px 0}.iti-flag.ws{height:10px;background-position:-5478px 0}.iti-flag.xk{height:15px;background-position:-5500px 0}.iti-flag.ye{height:14px;background-position:-5522px 0}.iti-flag.yt{height:14px;background-position:-5544px 0}.iti-flag.za{height:14px;background-position:-5566px 0}.iti-flag.zm{height:14px;background-position:-5588px 0}.iti-flag.zw{height:10px;background-position:-5610px 0}.iti-flag{width:20px;height:15px;box-shadow:0 0 1px 0 #888;background-image:url(/img/flags.png);background-repeat:no-repeat;background-color:#dbdbdb;background-position:20px 0}@media only screen and (-o-min-device-pixel-ratio:2/1),only screen and (-webkit-min-device-pixel-ratio:2),only screen and (min--moz-device-pixel-ratio:2),only screen and (min-device-pixel-ratio:2),only screen and (min-resolution:2dppx),only screen and (min-resolution:192dpi){.iti-flag{background-image:url(/img/flags@2x.png)}}.iti-flag.np{background-color:transparent} https://blockchain.com/btc/payment\\\\_request?address=1CqX36f5xKqPWrGEg3yaoxLz7nGS3FABkR&amp;amount=0.00311308&amp;message=school'"
      ]
     },
     "execution_count": 76,
     "metadata": {},
     "output_type": "execute_result"
    }
   ],
   "source": [
    "# This is HTML / CSS!\n",
    "df[feature_df['dale_chall']==np.max(feature_df['dale_chall'])]['text'].iloc[0]"
   ]
  },
  {
   "cell_type": "code",
   "execution_count": 78,
   "metadata": {},
   "outputs": [
    {
     "data": {
      "text/plain": [
       "'With all the talk that increasing blocksize would reduce the full node count, why not make positive changes in the opposite direction?  Are any devs working on something that would *increase* the full node count?  And if not, why are they willing to hamstring the network to avoid a, say, 30% reduction in full node count?'"
      ]
     },
     "execution_count": 78,
     "metadata": {},
     "output_type": "execute_result"
    }
   ],
   "source": [
    "# Above Mean Dale Chall\n",
    "df[feature_df['dale_chall']>=np.mean(feature_df['dale_chall'])]['text'].iloc[0]\n"
   ]
  }
 ],
 "metadata": {
  "kernelspec": {
   "display_name": "Python 3",
   "language": "python",
   "name": "python3"
  },
  "language_info": {
   "codemirror_mode": {
    "name": "ipython",
    "version": 3
   },
   "file_extension": ".py",
   "mimetype": "text/x-python",
   "name": "python",
   "nbconvert_exporter": "python",
   "pygments_lexer": "ipython3",
   "version": "3.8.5"
  }
 },
 "nbformat": 4,
 "nbformat_minor": 2
}
